{
 "cells": [
  {
   "cell_type": "markdown",
   "metadata": {},
   "source": [
    "## Natural products with structural types"
   ]
  },
  {
   "cell_type": "code",
   "execution_count": null,
   "metadata": {},
   "outputs": [],
   "source": [
    "from rdkit import Chem\n",
    "import pandas as pd\n",
    "import os"
   ]
  },
  {
   "cell_type": "markdown",
   "metadata": {},
   "source": [
    "### 1. Add annotation information for natural products"
   ]
  },
  {
   "cell_type": "code",
   "execution_count": null,
   "metadata": {},
   "outputs": [],
   "source": [
    "DataSet=pd.read_csv('../../1 Data Preprocessing/1.2 Data Exception Handling/Dataset.csv')\n",
    "DNP_original_codes = []\n",
    "file = open('DNP_compound_class.txt','r')\n",
    "for line in file.readlines():\n",
    "    line=line.strip().split('\t')\n",
    "    DNP_original_codes.append(line)    \n",
    "file.close()\n",
    "class_df = pd.DataFrame(DNP_original_codes)\n",
    "class_df = class_df.rename(columns={0:'CRCNumber',1:'codes'})\n",
    "df=pd.merge(DataSet,class_df,on=['CRCNumber'])\n",
    "df"
   ]
  },
  {
   "cell_type": "markdown",
   "metadata": {},
   "source": [
    "### 2. Filter out natural products without annotation information"
   ]
  },
  {
   "cell_type": "code",
   "execution_count": null,
   "metadata": {},
   "outputs": [],
   "source": [
    "df=df[~df['codes'].isna()]\n",
    "df.to_csv('HasCodes.csv',index=False)\n",
    "df"
   ]
  },
  {
   "cell_type": "markdown",
   "metadata": {},
   "source": [
    "### 3. Statistics for the number of compounds in each structural type"
   ]
  },
  {
   "cell_type": "code",
   "execution_count": null,
   "metadata": {},
   "outputs": [],
   "source": [
    "df_HasStructure=df[df['codes'].str.contains('VA')|df['codes'].str.contains('VC')|df['codes'].str.contains('VE')|df['codes'].str.contains('VF')\n",
    "                  |df['codes'].str.contains('VG')|df['codes'].str.contains('VH')|df['codes'].str.contains('VI')|df['codes'].str.contains('VK')\n",
    "                  |df['codes'].str.contains('VM')|df['codes'].str.contains('VO')|df['codes'].str.contains('VQ')|df['codes'].str.contains('VS')\n",
    "                  |df['codes'].str.contains('VT')|df['codes'].str.contains('VV')|df['codes'].str.contains('VX')|df['codes'].str.contains('VY')]\n",
    "df_HasStructure.reset_index(drop=True,inplace=True)\n",
    "df_HasStructure"
   ]
  },
  {
   "cell_type": "code",
   "execution_count": null,
   "metadata": {},
   "outputs": [],
   "source": [
    "class_list=['VA','VC','VE','VF','VG','VH','VI','VK','VM','VO','VQ','VS','VT','VV','VX','VY']\n",
    "data=[]\n",
    "def Compound_Type(Code):\n",
    "    df_class=df[df['codes'].str.contains(Code)]\n",
    "    filename=Code+'.csv'\n",
    "    df_class.to_csv(filename,index=False)\n",
    "    percentages=round(len(df_class)/len(df_HasStructure)*100,2)\n",
    "    data.append((Code,len(df_class),percentages))\n",
    "    return data\n",
    "for i in class_list:\n",
    "    Compound_Type(i)\n",
    "data=pd.DataFrame(data,columns=['Codes','Counts','Percentages(%)'])\n",
    "data"
   ]
  }
 ],
 "metadata": {
  "kernelspec": {
   "display_name": "Python 3",
   "language": "python",
   "name": "python3"
  },
  "language_info": {
   "codemirror_mode": {
    "name": "ipython",
    "version": 3
   },
   "file_extension": ".py",
   "mimetype": "text/x-python",
   "name": "python",
   "nbconvert_exporter": "python",
   "pygments_lexer": "ipython3",
   "version": "3.7.0"
  }
 },
 "nbformat": 4,
 "nbformat_minor": 2
}
