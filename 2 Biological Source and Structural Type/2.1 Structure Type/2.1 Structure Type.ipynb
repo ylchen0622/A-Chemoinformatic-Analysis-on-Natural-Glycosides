{
 "cells": [
  {
   "cell_type": "markdown",
   "metadata": {},
   "source": [
    "## Natural products with structural types"
   ]
  },
  {
   "cell_type": "code",
   "execution_count": null,
   "metadata": {},
   "outputs": [],
   "source": [
    "from rdkit import Chem\n",
    "import pandas as pd\n",
    "import os"
   ]
  },
  {
   "cell_type": "markdown",
   "metadata": {},
   "source": [
    "### 1. Add annotation information for natural products"
   ]
  },
  {
   "cell_type": "code",
   "execution_count": null,
   "metadata": {},
   "outputs": [],
   "source": [
    "DataSet=pd.read_csv('../../1 Data Preprocess/1.2 DataSet/DataSet.csv')\n",
    "DNP_original_codes = []\n",
    "file = open('DNP_compound_class.txt','r')\n",
    "for line in file.readlines():\n",
    "    line=line.strip().split('\t')\n",
    "    DNP_original_codes.append(line)    \n",
    "file.close()\n",
    "class_df = pd.DataFrame(DNP_original_codes)\n",
    "class_df = class_df.rename(columns={0:'CRCNumber',1:'codes'})"
   ]
  },
  {
   "cell_type": "markdown",
   "metadata": {},
   "source": [
    "### 2. Filter out natural products without annotation information"
   ]
  },
  {
   "cell_type": "code",
   "execution_count": null,
   "metadata": {},
   "outputs": [],
   "source": [
    "df=pd.merge(DataSet,class_df,on=['CRCNumber'])\n",
    "df=df[~df['codes'].isna()]\n",
    "df.to_csv('HasCodes.csv',index=False)"
   ]
  },
  {
   "cell_type": "markdown",
   "metadata": {},
   "source": [
    "### 3. Statistics for the number of compounds in each structural types"
   ]
  },
  {
   "cell_type": "code",
   "execution_count": null,
   "metadata": {},
   "outputs": [],
   "source": [
    "class_list=['VA','VC','VE','VF','VG','VH','VI','VK','VM','VO','VQ','VS','VT','VV','VX','VY']\n",
    "data=[]\n",
    "def Compound_Type(Code):\n",
    "    df_class=df[df['codes'].str.contains(Code)]\n",
    "    filename=Code+'.csv'\n",
    "    df_class.to_csv(filename,index=False)\n",
    "    data.append((Code,len(df_class)))\n",
    "    return data\n",
    "for i in class_list:\n",
    "    Compound_Type(i)\n",
    "data=pd.DataFrame(data,columns=['Codes','Counts'])\n",
    "data"
   ]
  }
 ],
 "metadata": {
  "kernelspec": {
   "display_name": "Python 3",
   "language": "python",
   "name": "python3"
  },
  "language_info": {
   "codemirror_mode": {
    "name": "ipython",
    "version": 3
   },
   "file_extension": ".py",
   "mimetype": "text/x-python",
   "name": "python",
   "nbconvert_exporter": "python",
   "pygments_lexer": "ipython3",
   "version": "3.7.0"
  }
 },
 "nbformat": 4,
 "nbformat_minor": 2
}
