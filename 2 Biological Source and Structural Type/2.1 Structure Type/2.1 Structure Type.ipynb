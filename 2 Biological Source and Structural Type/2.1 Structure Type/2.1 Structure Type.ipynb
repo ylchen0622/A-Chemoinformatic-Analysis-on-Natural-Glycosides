{
 "cells": [
  {
   "cell_type": "markdown",
   "metadata": {},
   "source": [
    "### Obtain compounds with structural types"
   ]
  },
  {
   "cell_type": "code",
   "execution_count": null,
   "metadata": {},
   "outputs": [],
   "source": [
    "from rdkit import Chem\n",
    "import pandas as pd\n",
    "import os\n",
    "\n",
    "DataSet=pd.read_csv('../../1 Data Preprocess/1.2 DataSet/DataSet.csv')\n",
    "\n",
    "# Add biological source and classification information\n",
    "DNP_original_codes = []\n",
    "file = open('DNP_compound_class.txt','r')\n",
    "for line in file.readlines():\n",
    "    line=line.strip().split('\t')\n",
    "    DNP_original_codes.append(line)    \n",
    "file.close()\n",
    "class_df = pd.DataFrame(DNP_original_codes)\n",
    "class_df = class_df.rename(columns={0:'CRCNumber',1:'codes'})\n",
    "\n",
    "# Filter out data without biological source and classification information\n",
    "df=pd.merge(DataSet,class_df,on=['CRCNumber'])\n",
    "df=df[~df['codes'].isna()]\n",
    "df.to_csv('HasCodes.csv',index=False)\n",
    "\n",
    "# Statistics for the number of compounds in each structure types\n",
    "class_list=['VA','VC','VE','VF','VG','VH','VI','VK','VM','VO','VQ','VS','VT','VV','VX','VY']\n",
    "data=[]\n",
    "def Compound_Type(Code):\n",
    "    df_class=df[df['codes'].str.contains(Code)]\n",
    "    filename=Code+'.csv'\n",
    "    df_class.to_csv(filename,index=False)\n",
    "    data.append((Code,len(df_class)))\n",
    "    return data\n",
    "for i in class_list:\n",
    "    Compound_Type(i)\n",
    "data=pd.DataFrame(data,columns=['Codes','Counts'])\n",
    "data\n",
    "\n",
    "# # Compounds with structural types\n",
    "# df1=df[(df['codes'].str.contains('VA')|df['codes'].str.contains('VC')|df['codes'].str.contains('VE')|df['codes'].str.contains('VF')|df['codes'].str.contains('VG')\n",
    "#   |df['codes'].str.contains('VH')|df['codes'].str.contains('VI')|df['codes'].str.contains('VK')|df['codes'].str.contains('VM')|df['codes'].str.contains('VO')\n",
    "#   |df['codes'].str.contains('VQ')|df['codes'].str.contains('VS')|df['codes'].str.contains('VT')|df['codes'].str.contains('VV')|df['codes'].str.contains('VX')\n",
    "#   |df['codes'].str.contains('VY'))]\n",
    "\n",
    "# # Compound with biological source\n",
    "# df2=df[(df['codes'].str.contains('ZA')|df['codes'].str.contains('ZB')|df['codes'].str.contains('ZD')|df['codes'].str.contains('ZE')|df['codes'].str.contains('ZF')\n",
    "#   |df['codes'].str.contains('ZG')|df['codes'].str.contains('ZH')|df['codes'].str.contains('ZI')|df['codes'].str.contains('ZJ')|df['codes'].str.contains('ZK')\n",
    "#   |df['codes'].str.contains('ZL')|df['codes'].str.contains('ZM')|df['codes'].str.contains('ZN')|df['codes'].str.contains('ZQ')|df['codes'].str.contains('ZR')\n",
    "#   |df['codes'].str.contains('ZS')|df['codes'].str.contains('ZT')|df['codes'].str.contains('ZU')|df['codes'].str.contains('ZV')|df['codes'].str.contains('ZW')\n",
    "#   |df['codes'].str.contains('ZX')|df['codes'].str.contains('ZY')|df['codes'].str.contains('ZZ'))]\n",
    "\n",
    "# # Compound with stuuctural types and biological source\n",
    "# df3=df[(df['codes'].str.contains('VA')|df['codes'].str.contains('VC')|df['codes'].str.contains('VE')|df['codes'].str.contains('VF')|df['codes'].str.contains('VG')\n",
    "#   |df['codes'].str.contains('VH')|df['codes'].str.contains('VI')|df['codes'].str.contains('VK')|df['codes'].str.contains('VM')|df['codes'].str.contains('VO')\n",
    "#   |df['codes'].str.contains('VQ')|df['codes'].str.contains('VS')|df['codes'].str.contains('VT')|df['codes'].str.contains('VV')|df['codes'].str.contains('VX')\n",
    "#   |df['codes'].str.contains('VY'))&(df['codes'].str.contains('ZA')|df['codes'].str.contains('ZB')|df['codes'].str.contains('ZD')|df['codes'].str.contains('ZE')|df['codes'].str.contains('ZF')\n",
    "#   |df['codes'].str.contains('ZG')|df['codes'].str.contains('ZH')|df['codes'].str.contains('ZI')|df['codes'].str.contains('ZJ')|df['codes'].str.contains('ZK')\n",
    "#   |df['codes'].str.contains('ZL')|df['codes'].str.contains('ZM')|df['codes'].str.contains('ZN')|df['codes'].str.contains('ZQ')|df['codes'].str.contains('ZR')\n",
    "#   |df['codes'].str.contains('ZS')|df['codes'].str.contains('ZT')|df['codes'].str.contains('ZU')|df['codes'].str.contains('ZV')|df['codes'].str.contains('ZW')\n",
    "#   |df['codes'].str.contains('ZX')|df['codes'].str.contains('ZY')|df['codes'].str.contains('ZZ'))]"
   ]
  }
 ],
 "metadata": {
  "kernelspec": {
   "display_name": "Python 3",
   "language": "python",
   "name": "python3"
  },
  "language_info": {
   "codemirror_mode": {
    "name": "ipython",
    "version": 3
   },
   "file_extension": ".py",
   "mimetype": "text/x-python",
   "name": "python",
   "nbconvert_exporter": "python",
   "pygments_lexer": "ipython3",
   "version": "3.7.0"
  }
 },
 "nbformat": 4,
 "nbformat_minor": 2
}
