{
 "cells": [
  {
   "cell_type": "markdown",
   "metadata": {},
   "source": [
    "### Statistics for the number of compounds in each phylum"
   ]
  },
  {
   "cell_type": "code",
   "execution_count": null,
   "metadata": {},
   "outputs": [],
   "source": [
    "from rdkit import Chem\n",
    "import pandas as pd\n",
    "import os\n",
    "\n",
    "df=pd.read_csv('../2.1 Structure Type/HasCodes.csv')\n",
    "phylum_list=['ZA','ZB','ZD','ZE','ZF','ZG','ZH','ZI','ZJ','ZK','ZL','ZM','ZN','ZQ','ZR','ZS','ZT','ZU','ZV','ZW','ZX','ZY','ZZ']\n",
    "data=[]\n",
    "def Phylum_Type(Code):\n",
    "    df_phylum=df[df['codes'].str.contains(i)]\n",
    "    filename=Code+'.csv'\n",
    "    df_phylum.to_csv(filename,index=False)\n",
    "    data.append((Code,len(df_phylum)))\n",
    "    return data\n",
    "for i in phylum_list:\n",
    "    Phylum_Type(i)\n",
    "data=pd.DataFrame(data,columns=['Codes','Counts'])\n",
    "data"
   ]
  },
  {
   "cell_type": "code",
   "execution_count": null,
   "metadata": {},
   "outputs": [],
   "source": []
  }
 ],
 "metadata": {
  "kernelspec": {
   "display_name": "Python 3",
   "language": "python",
   "name": "python3"
  },
  "language_info": {
   "codemirror_mode": {
    "name": "ipython",
    "version": 3
   },
   "file_extension": ".py",
   "mimetype": "text/x-python",
   "name": "python",
   "nbconvert_exporter": "python",
   "pygments_lexer": "ipython3",
   "version": "3.7.0"
  }
 },
 "nbformat": 4,
 "nbformat_minor": 2
}
