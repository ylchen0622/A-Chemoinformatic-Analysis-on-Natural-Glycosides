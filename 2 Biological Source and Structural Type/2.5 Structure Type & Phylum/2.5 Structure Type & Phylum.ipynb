{
 "cells": [
  {
   "cell_type": "markdown",
   "metadata": {},
   "source": [
    "## Cross-distribution of NPs over structural types and biological sources (Phylum)"
   ]
  },
  {
   "cell_type": "markdown",
   "metadata": {},
   "source": [
    "### 1. Natural products with biological source (Phylum) and structural type information"
   ]
  },
  {
   "cell_type": "code",
   "execution_count": null,
   "metadata": {},
   "outputs": [],
   "source": [
    "import pandas as pd\n",
    "df=pd.read_csv('../2.1 Structural Type/HasCodes.csv')\n",
    "phylum_list=['ZA','ZB','ZD','ZE','ZF','ZG','ZH','ZI','ZJ','ZK','ZL','ZM','ZN','ZQ','ZR','ZS','ZT','ZU','ZV','ZW','ZX','ZY','ZZ']\n",
    "df=df[(df['codes'].str.contains('ZA')|df['codes'].str.contains('ZB')|df['codes'].str.contains('ZD')|df['codes'].str.contains('ZE')|df['codes'].str.contains('ZF')\n",
    "  |df['codes'].str.contains('ZG')|df['codes'].str.contains('ZH')|df['codes'].str.contains('ZI')|df['codes'].str.contains('ZJ')|df['codes'].str.contains('ZK')\n",
    "  |df['codes'].str.contains('ZL')|df['codes'].str.contains('ZM')|df['codes'].str.contains('ZN')|df['codes'].str.contains('ZQ')|df['codes'].str.contains('ZR')\n",
    "  |df['codes'].str.contains('ZS')|df['codes'].str.contains('ZT')|df['codes'].str.contains('ZU')|df['codes'].str.contains('ZV')|df['codes'].str.contains('ZW')\n",
    "  |df['codes'].str.contains('ZX')|df['codes'].str.contains('ZY')|df['codes'].str.contains('ZZ'))&(df['codes'].str.contains('VA')|df['codes'].str.contains('VC')|df['codes'].str.contains('VE')|df['codes'].str.contains('VF')|df['codes'].str.contains('VG')\n",
    "  |df['codes'].str.contains('VH')|df['codes'].str.contains('VI')|df['codes'].str.contains('VK')|df['codes'].str.contains('VM')|df['codes'].str.contains('VO')\n",
    "  |df['codes'].str.contains('VQ')|df['codes'].str.contains('VS')|df['codes'].str.contains('VT')|df['codes'].str.contains('VV')|df['codes'].str.contains('VX')\n",
    "  |df['codes'].str.contains('VY'))]\n",
    "df.reset_index(drop=True,inplace=True)\n",
    "df"
   ]
  },
  {
   "cell_type": "markdown",
   "metadata": {},
   "source": [
    "### 2 The number of natural products from different structural types"
   ]
  },
  {
   "cell_type": "code",
   "execution_count": null,
   "metadata": {},
   "outputs": [],
   "source": [
    "class_list=['VA','VC','VE','VF','VG','VH','VI','VK','VM','VO','VQ','VS','VT','VV','VX','VY']\n",
    "data_class=[]\n",
    "for i in class_list:\n",
    "    df_class=df[df['codes'].str.contains(i)]\n",
    "    data_class.append((i,len(df_class)))\n",
    "data_class=pd.DataFrame(data_class,columns=['Codes','Counts'])\n",
    "data_class"
   ]
  },
  {
   "cell_type": "markdown",
   "metadata": {},
   "source": [
    "### 3 The number of natural products from different Phylum"
   ]
  },
  {
   "cell_type": "code",
   "execution_count": null,
   "metadata": {},
   "outputs": [],
   "source": [
    "phylum_list=['ZA','ZB','ZD','ZE','ZF','ZG','ZH','ZI','ZJ','ZK','ZL','ZM','ZN','ZQ','ZR','ZS','ZT','ZU','ZV','ZW','ZX','ZY','ZZ']\n",
    "data_phylum=[]\n",
    "for j in phylum_list:\n",
    "    df_phylum=df[df['codes'].str.contains(j)]\n",
    "    data_phylum.append((j,len(df_phylum)))\n",
    "data_phylum=pd.DataFrame(data_phylum,columns=['Codes','Counts'])\n",
    "data_phylum"
   ]
  },
  {
   "cell_type": "markdown",
   "metadata": {},
   "source": [
    "### 4 Cross-distribution"
   ]
  },
  {
   "cell_type": "code",
   "execution_count": null,
   "metadata": {},
   "outputs": [],
   "source": [
    "class_list=['VA','VC','VE','VF','VG','VH','VI','VK','VM','VO','VQ','VS','VT','VV','VX','VY']\n",
    "phylum_list=['ZA','ZB','ZD','ZE','ZF','ZG','ZH','ZI','ZJ','ZK','ZL','ZM','ZN','ZQ','ZR','ZS','ZT','ZU','ZV','ZW','ZX','ZY','ZZ']\n",
    "Class_Phylum_Counts=pd.DataFrame(phylum_list,columns=[''])\n",
    "for i in class_list:\n",
    "    class_phylum_counts=[]\n",
    "    for j in phylum_list:\n",
    "        class_phylum=df[(df['codes'].str.contains(i))&(df['codes'].str.contains(j))]\n",
    "        class_phylum_counts.append(len(class_phylum))\n",
    "    Class_Phylum_Counts[i]=class_phylum_counts\n",
    "Class_Phylum_Counts"
   ]
  }
 ],
 "metadata": {
  "kernelspec": {
   "display_name": "Python 3",
   "language": "python",
   "name": "python3"
  },
  "language_info": {
   "codemirror_mode": {
    "name": "ipython",
    "version": 3
   },
   "file_extension": ".py",
   "mimetype": "text/x-python",
   "name": "python",
   "nbconvert_exporter": "python",
   "pygments_lexer": "ipython3",
   "version": "3.7.0"
  }
 },
 "nbformat": 4,
 "nbformat_minor": 2
}
