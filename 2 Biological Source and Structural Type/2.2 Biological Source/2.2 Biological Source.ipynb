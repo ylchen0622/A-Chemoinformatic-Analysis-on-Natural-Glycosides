{
 "cells": [
  {
   "cell_type": "markdown",
   "metadata": {},
   "source": [
    "## Natural products with biological source"
   ]
  },
  {
   "cell_type": "code",
   "execution_count": null,
   "metadata": {},
   "outputs": [],
   "source": [
    "from rdkit import Chem\n",
    "import pandas as pd\n",
    "import os"
   ]
  },
  {
   "cell_type": "code",
   "execution_count": null,
   "metadata": {},
   "outputs": [],
   "source": [
    "df=pd.read_csv('../../1 Data Preprocessing/1.2 Data Exception Handling/Dataset.csv')\n",
    "def delete_two_char(x):\n",
    "    CRCNumber = x[:-2]\n",
    "    return CRCNumber\n",
    "df[\"CRCNumber\"] = df[\"CRCNumber\"].map(delete_two_char)\n",
    "df['Animal'] = ''\n",
    "df['Plant'] = ''\n",
    "df['Bacteria'] = ''\n",
    "df['Fungi'] = ''"
   ]
  },
  {
   "cell_type": "markdown",
   "metadata": {},
   "source": [
    "### 1. Add biological source information for natural products"
   ]
  },
  {
   "cell_type": "code",
   "execution_count": null,
   "metadata": {},
   "outputs": [],
   "source": [
    "ambf_df = pd.read_table('301_NP_from_all.txt',low_memory=False)\n",
    "#301_NP_from_Animals\n",
    "df_A = ambf_df[(ambf_df['KingdomCode[1]'] == 'A') | (ambf_df['KingdomCode[2]'] == 'A')| (ambf_df['KingdomCode[3]'] == 'A')| (ambf_df['KingdomCode[4]'] == 'A')]\n",
    "index_A = df[df.CRCNumber.isin(df_A.CRCNumber)].index\n",
    "for i in index_A:\n",
    "    df['Animal'][i] = 1\n",
    "\n",
    "#301_NP_from_Plants\n",
    "df_P = ambf_df[(ambf_df['KingdomCode[1]'] == 'P') | (ambf_df['KingdomCode[2]'] == 'P')| (ambf_df['KingdomCode[3]'] == 'P')| (ambf_df['KingdomCode[4]'] == 'P')]\n",
    "index_P = df[df.CRCNumber.isin(df_P.CRCNumber)].index\n",
    "for i in index_P:\n",
    "    df['Plant'][i] = 1\n",
    "\n",
    "#301_NP_from_Bacteria\n",
    "df_B = ambf_df[(ambf_df['KingdomCode[1]'] == 'B') | (ambf_df['KingdomCode[2]'] == 'B')| (ambf_df['KingdomCode[3]'] == 'B')| (ambf_df['KingdomCode[4]'] == 'B')]\n",
    "index_B = df[df.CRCNumber.isin(df_B.CRCNumber)].index\n",
    "for i in index_B:\n",
    "    df['Bacteria'][i] = 1\n",
    "\n",
    "#301_NP_from_Fungi\n",
    "df_F = ambf_df[(ambf_df['KingdomCode[1]'] == 'F') | (ambf_df['KingdomCode[2]'] == 'F')| (ambf_df['KingdomCode[3]'] == 'F')| (ambf_df['KingdomCode[4]'] == 'F')]\n",
    "index_F = df[df.CRCNumber.isin(df_F.CRCNumber)].index\n",
    "for i in index_F:\n",
    "    df['Fungi'][i] = 1  \n",
    "\n",
    "df_HasSpecies=df[~((df['Animal']=='')&(df['Plant']=='')&(df['Bacteria']=='')&(df['Fungi']==''))]\n",
    "df_HasSpecies.to_csv('HasSpecies.csv',index=False)"
   ]
  },
  {
   "cell_type": "markdown",
   "metadata": {},
   "source": [
    "### 2. Statistics for the number of natural products in each biological source (Animal, Plant, Bacteria, Fungi)"
   ]
  },
  {
   "cell_type": "code",
   "execution_count": null,
   "metadata": {},
   "outputs": [],
   "source": [
    "Species=['Animal','Plant','Bacteria','Fungi']\n",
    "data=[]\n",
    "def Species_Type(Species):\n",
    "    df=pd.read_csv('HasSpecies.csv')\n",
    "    df_species=df[(df[Species]==1)]\n",
    "    filename_species=Species+'.csv'\n",
    "    df_species.to_csv(filename_species,index=False)\n",
    "    data.append((Species,len(df_species)))\n",
    "    return data\n",
    "for i in Species:\n",
    "    Species_Type(i)\n",
    "data=pd.DataFrame(data,columns=['Species','Counts'])\n",
    "data"
   ]
  }
 ],
 "metadata": {
  "kernelspec": {
   "display_name": "Python 3",
   "language": "python",
   "name": "python3"
  },
  "language_info": {
   "codemirror_mode": {
    "name": "ipython",
    "version": 3
   },
   "file_extension": ".py",
   "mimetype": "text/x-python",
   "name": "python",
   "nbconvert_exporter": "python",
   "pygments_lexer": "ipython3",
   "version": "3.7.0"
  }
 },
 "nbformat": 4,
 "nbformat_minor": 2
}
