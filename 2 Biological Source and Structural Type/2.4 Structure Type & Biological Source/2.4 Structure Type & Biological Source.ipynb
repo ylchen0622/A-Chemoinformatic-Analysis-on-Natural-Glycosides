{
 "cells": [
  {
   "cell_type": "markdown",
   "metadata": {},
   "source": [
    "## Cross-distribution of NPs over structural types and biological sources (APBF)"
   ]
  },
  {
   "cell_type": "code",
   "execution_count": null,
   "metadata": {},
   "outputs": [],
   "source": [
    "import pandas as pd\n",
    "df_species=pd.read_csv('../2.2 Biological Source/HasSpecies.csv')\n",
    "df_species"
   ]
  },
  {
   "cell_type": "markdown",
   "metadata": {},
   "source": [
    "### 1. Add annotation information for natural products"
   ]
  },
  {
   "cell_type": "code",
   "execution_count": null,
   "metadata": {},
   "outputs": [],
   "source": [
    "DNP_original_codes = []\n",
    "file = open('DNP_compound_class.txt','r')\n",
    "for line in file.readlines():\n",
    "    line=line.strip().split('\t')\n",
    "    DNP_original_codes.append(line)    \n",
    "file.close()\n",
    "class_df = pd.DataFrame(DNP_original_codes)\n",
    "class_df = class_df.rename(columns={0:'CRCNumber',1:'codes'})\n",
    "def delete_two_char(x):\n",
    "    CRCNumber = x[:-2]\n",
    "    return CRCNumber\n",
    "class_df[\"CRCNumber\"] = class_df[\"CRCNumber\"].map(delete_two_char)\n",
    "df=pd.merge(df_species,class_df,on=['CRCNumber'])"
   ]
  },
  {
   "cell_type": "markdown",
   "metadata": {},
   "source": [
    "### 2. Natural products with biological source and structural type information"
   ]
  },
  {
   "cell_type": "code",
   "execution_count": null,
   "metadata": {},
   "outputs": [],
   "source": [
    "class_list=['VA','VC','VE','VF','VG','VH','VI','VK','VM','VO','VQ','VS','VT','VV','VX','VY']\n",
    "df=df[df['codes'].str.contains('VA')|df['codes'].str.contains('VC')|df['codes'].str.contains('VE')|df['codes'].str.contains('VF')|df['codes'].str.contains('VG')\n",
    "  |df['codes'].str.contains('VH')|df['codes'].str.contains('VI')|df['codes'].str.contains('VK')|df['codes'].str.contains('VM')|df['codes'].str.contains('VO')\n",
    "  |df['codes'].str.contains('VQ')|df['codes'].str.contains('VS')|df['codes'].str.contains('VT')|df['codes'].str.contains('VV')|df['codes'].str.contains('VX')\n",
    "  |df['codes'].str.contains('VY')]\n",
    "df"
   ]
  },
  {
   "cell_type": "markdown",
   "metadata": {},
   "source": [
    "### 3. The cross-distribution of NPs over structural types and biological sources (APBF)"
   ]
  },
  {
   "cell_type": "code",
   "execution_count": null,
   "metadata": {},
   "outputs": [],
   "source": [
    "class_list=['VA','VC','VE','VF','VG','VH','VI','VK','VM','VO','VQ','VS','VT','VV','VX','VY']\n",
    "species_list=['Animal','Plant','Bacteria','Fungi']\n",
    "Class_Species_Counts=pd.DataFrame(species_list,columns=[''])\n",
    "for i in class_list:\n",
    "    class_species_counts=[]\n",
    "    for j in species_list:\n",
    "        class_species=df[(df['codes'].str.contains(i))&(df[j]==1)]\n",
    "        class_species_counts.append(len(class_species))\n",
    "    Class_Species_Counts[i]=class_species_counts\n",
    "Class_Species_Counts.to_csv('Class_Species.csv',index=False)\n",
    "Class_Species_Counts"
   ]
  }
 ],
 "metadata": {
  "kernelspec": {
   "display_name": "Python 3",
   "language": "python",
   "name": "python3"
  },
  "language_info": {
   "codemirror_mode": {
    "name": "ipython",
    "version": 3
   },
   "file_extension": ".py",
   "mimetype": "text/x-python",
   "name": "python",
   "nbconvert_exporter": "python",
   "pygments_lexer": "ipython3",
   "version": "3.7.0"
  }
 },
 "nbformat": 4,
 "nbformat_minor": 2
}
