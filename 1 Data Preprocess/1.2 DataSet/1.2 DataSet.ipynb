{
 "cells": [
  {
   "cell_type": "markdown",
   "metadata": {},
   "source": [
    "### Get recognizable structure by RDKit"
   ]
  },
  {
   "cell_type": "code",
   "execution_count": null,
   "metadata": {},
   "outputs": [],
   "source": [
    "from rdkit import Chem\n",
    "import pandas as pd\n",
    "import os\n",
    "\n",
    "# Read pre-processed data\n",
    "suppl=Chem.SDMolSupplier('../1.1 Data Standard/dnp2016-standard.sdf')\n",
    "mols=[x for x in suppl if x is not None]\n",
    "\n",
    "# Get recognizable structure by RDKit\n",
    "DataSet=[]\n",
    "for mol in mols:\n",
    "    Smiles=Chem.MolToSmiles(mol)\n",
    "    CRCNumber=mol.GetProp('chapman-hall-number')\n",
    "    DataSet.append((CRCNumber,Smiles))\n",
    "DataSet=pd.DataFrame(DataSet,columns=['CRCNumber','Smiles'])\n",
    "DataSet.to_csv('DataSet.csv',index=False)\n",
    "DataSet"
   ]
  },
  {
   "cell_type": "code",
   "execution_count": null,
   "metadata": {},
   "outputs": [],
   "source": []
  }
 ],
 "metadata": {
  "kernelspec": {
   "display_name": "Python 3",
   "language": "python",
   "name": "python3"
  },
  "language_info": {
   "codemirror_mode": {
    "name": "ipython",
    "version": 3
   },
   "file_extension": ".py",
   "mimetype": "text/x-python",
   "name": "python",
   "nbconvert_exporter": "python",
   "pygments_lexer": "ipython3",
   "version": "3.7.0"
  }
 },
 "nbformat": 4,
 "nbformat_minor": 2
}
