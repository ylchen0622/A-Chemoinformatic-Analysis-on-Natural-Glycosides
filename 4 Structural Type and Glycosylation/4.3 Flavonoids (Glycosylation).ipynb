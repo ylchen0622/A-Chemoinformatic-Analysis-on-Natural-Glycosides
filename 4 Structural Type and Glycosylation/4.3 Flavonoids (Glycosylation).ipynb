{
 "cells": [
  {
   "cell_type": "markdown",
   "metadata": {},
   "source": [
    "## Glycosylation ratio of each subclass of flavonoids"
   ]
  },
  {
   "cell_type": "code",
   "execution_count": null,
   "metadata": {},
   "outputs": [],
   "source": [
    "from rdkit import Chem\n",
    "import numpy as np\n",
    "import pandas as pd"
   ]
  },
  {
   "cell_type": "markdown",
   "metadata": {},
   "source": [
    "### 1. Calculate the glycosylation ratio of flavonoids in DNP"
   ]
  },
  {
   "cell_type": "code",
   "execution_count": null,
   "metadata": {},
   "outputs": [],
   "source": [
    "df=pd.read_csv('Structure_Codes.csv')\n",
    "df=df[(df['codes'].str.contains('VA')|df['codes'].str.contains('VC')|df['codes'].str.contains('VE')|df['codes'].str.contains('VF')|df['codes'].str.contains('VG')\n",
    "  |df['codes'].str.contains('VH')|df['codes'].str.contains('VI')|df['codes'].str.contains('VK')|df['codes'].str.contains('VM')|df['codes'].str.contains('VO')\n",
    "  |df['codes'].str.contains('VQ')|df['codes'].str.contains('VS')|df['codes'].str.contains('VT')|df['codes'].str.contains('VV')|df['codes'].str.contains('VX')\n",
    "  |df['codes'].str.contains('VY')|df['codes'].str.contains('VZ'))]\n",
    "df_flavonoids=df[df['codes'].str.contains('VK')]\n",
    "df_flavonoids.reset_index(drop=True,inplace=True)\n",
    "len(df_flavonoids[df_flavonoids['hadOrHasSugars']==True])/len(df_flavonoids)"
   ]
  },
  {
   "cell_type": "markdown",
   "metadata": {},
   "source": [
    "### 2. Calculate the glycosylation ratio of each subclass of flavonoids"
   ]
  },
  {
   "cell_type": "markdown",
   "metadata": {},
   "source": [
    "### 2.1 Get the CRCNumber of flavonoids"
   ]
  },
  {
   "cell_type": "code",
   "execution_count": null,
   "metadata": {},
   "outputs": [],
   "source": [
    "VK_class_all = []\n",
    "VK_class_all_count = []\n",
    "for k in range(len(df_flavonoids)):\n",
    "    VK_class = df_flavonoids['codes'][k]\n",
    "    VK_class = VK_class.split(', ')\n",
    "    VK_class_list = []\n",
    "    for i in range(len(VK_class)):\n",
    "        if VK_class[i][0:2] == 'VK':\n",
    "            VK_class_list.append(VK_class[i])\n",
    "    VK_class_all.append(VK_class_list)\n",
    "    VK_class_all_count.append(len(VK_class_list))\n",
    "df_flavonoids['class_code'] = VK_class_all\n",
    "df_flavonoids['count'] = VK_class_all_count"
   ]
  },
  {
   "cell_type": "markdown",
   "metadata": {},
   "source": [
    "### 2.2 Classification of flavonoids based on the annotation files of DNP"
   ]
  },
  {
   "cell_type": "code",
   "execution_count": null,
   "metadata": {},
   "outputs": [],
   "source": [
    "VK_name_all = []\n",
    "for k in range(len(df_flavonoids)):\n",
    "    VK_class = df_flavonoids['class_code'][k]\n",
    "    VK_name = []\n",
    "    for i in VK_class:\n",
    "        a = int(i[2:])\n",
    "        if (a >= 10 and a <= 95) or (a == 1500):\n",
    "            VK_name.append('Anthocyanidins')\n",
    "        elif (a == 1000) or (a == 1100) or (a == 1200) or (a == 1250):\n",
    "            VK_name.append('Flavans, Flavanols and Leucoanthocyanidins')\n",
    "        elif a == 2000:\n",
    "            VK_name.append('Biflavonoids and polyflavonoids')\n",
    "        elif a >= 3000 and a <= 3100:\n",
    "            VK_name.append('Isoflavonoids')\n",
    "        elif a >= 3200 and a <= 3300:\n",
    "            VK_name.append('Rotenoid flavonoids')\n",
    "        elif a >= 3400 and a <= 3550:\n",
    "            VK_name.append('Pterocarpans')\n",
    "        elif a >= 3600 and a <= 3700:\n",
    "            VK_name.append('Isoflavans')\n",
    "        elif a == 3750:\n",
    "            VK_name.append('Coumestan flavonoids')\n",
    "        elif a == 4000:\n",
    "            VK_name.append('Neoflavonoids')\n",
    "        elif a >= 5000 and a <= 5290:\n",
    "            VK_name.append('Flavones and Flavonols')\n",
    "        elif (a >= 6010 and a <= 6095) or (a == 6200):\n",
    "            VK_name.append('Chalcones and dihydrochalcones')\n",
    "        elif a == 6100:\n",
    "            VK_name.append('Aurone flavonoids')\n",
    "        elif a >= 6300 and a <= 6390:\n",
    "            VK_name.append('Flavanones')\n",
    "        elif a >= 6410 and a <= 6490:\n",
    "            VK_name.append('Dihydroflavonols')\n",
    "        elif (a==1300) or (a==3720) or (a==3770) or (a==3800) or (a==3820) or (a >= 6500 and a <= 7000) or (a==8300) or (a==3850):\n",
    "            VK_name.append('Others')\n",
    "    VK_name_all.append(VK_name)\n",
    "df_flavonoids['Classify'] = VK_name_all\n",
    "df1=df_flavonoids.drop(columns = ['class_code','count'])\n",
    "for i in range(len(df1)):\n",
    "    df1['Classify'][i]=' '.join(df1['Classify'][i])\n",
    "df1.to_csv('DNP_Flavonoids.csv',index=False)"
   ]
  },
  {
   "cell_type": "markdown",
   "metadata": {},
   "source": [
    "### 2.3 Calculate the glycosylation ratio"
   ]
  },
  {
   "cell_type": "code",
   "execution_count": null,
   "metadata": {},
   "outputs": [],
   "source": [
    "classify=['Anthocyanidins','Flavans, Flavanols and Leucoanthocyanidins','Biflavonoids and polyflavonoids','Isoflavonoids',\n",
    "          'Rotenoid flavonoids','Pterocarpans', 'Isoflavans', 'Coumestan flavonoids', 'Neoflavonoids', 'Flavones and Flavonols',\n",
    "          'Chalcones and dihydrochalcones','Aurone flavonoids','Flavanones','Dihydroflavonols','Others']\n",
    "data=[]\n",
    "for i in classify:\n",
    "    df_classify=df1[df1['Classify'].str.contains(i)]\n",
    "    df_classify_hassugar=df1[(df1['Classify'].str.contains(i))&(df1['hadOrHasSugars']==True)]\n",
    "    glycosylation_ratio=round(len(df_classify_hassugar)/len(df_classify)*100,2)\n",
    "    data.append((i,len(df_classify),len(df_classify_hassugar),glycosylation_ratio))\n",
    "data=pd.DataFrame(data,columns=['Category','All','Sugar','Percentages(%)'])\n",
    "data"
   ]
  }
 ],
 "metadata": {
  "kernelspec": {
   "display_name": "Python 3",
   "language": "python",
   "name": "python3"
  },
  "language_info": {
   "codemirror_mode": {
    "name": "ipython",
    "version": 3
   },
   "file_extension": ".py",
   "mimetype": "text/x-python",
   "name": "python",
   "nbconvert_exporter": "python",
   "pygments_lexer": "ipython3",
   "version": "3.7.0"
  }
 },
 "nbformat": 4,
 "nbformat_minor": 2
}
