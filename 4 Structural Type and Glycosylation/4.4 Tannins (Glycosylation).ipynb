{
 "cells": [
  {
   "cell_type": "markdown",
   "metadata": {},
   "source": [
    "## Glycosylation ratio of each subclass of tannins"
   ]
  },
  {
   "cell_type": "code",
   "execution_count": null,
   "metadata": {},
   "outputs": [],
   "source": [
    "from rdkit import Chem\n",
    "import numpy as np\n",
    "import pandas as pd"
   ]
  },
  {
   "cell_type": "markdown",
   "metadata": {},
   "source": [
    "### 1. Calculate the glycosylation ratio of tannins in DNP"
   ]
  },
  {
   "cell_type": "code",
   "execution_count": null,
   "metadata": {},
   "outputs": [],
   "source": [
    "df=pd.read_csv('Structure_Codes.csv')\n",
    "df=df[(df['codes'].str.contains('VA')|df['codes'].str.contains('VC')|df['codes'].str.contains('VE')|df['codes'].str.contains('VF')|df['codes'].str.contains('VG')\n",
    "  |df['codes'].str.contains('VH')|df['codes'].str.contains('VI')|df['codes'].str.contains('VK')|df['codes'].str.contains('VM')|df['codes'].str.contains('VO')\n",
    "  |df['codes'].str.contains('VQ')|df['codes'].str.contains('VS')|df['codes'].str.contains('VT')|df['codes'].str.contains('VV')|df['codes'].str.contains('VX')\n",
    "  |df['codes'].str.contains('VY')|df['codes'].str.contains('VZ'))]\n",
    "df_tannins=df[df['codes'].str.contains('VM')]\n",
    "df_tannins.reset_index(drop=True,inplace=True)\n",
    "len(df_tannins[df_tannins['hadOrHasSugars']==True])/len(df_tannins)"
   ]
  },
  {
   "cell_type": "markdown",
   "metadata": {},
   "source": [
    "### 2. Calculate the glycosylation ratio of each subclass of tannins"
   ]
  },
  {
   "cell_type": "markdown",
   "metadata": {},
   "source": [
    "### 2.1 Get the CRCNumber of tannins"
   ]
  },
  {
   "cell_type": "code",
   "execution_count": null,
   "metadata": {},
   "outputs": [],
   "source": [
    "VM_class_all = []\n",
    "VM_class_all_count = []\n",
    "for k in range(len(df_tannins)):\n",
    "    VM_class = df_tannins['codes'][k]\n",
    "    VM_class = VM_class.split(', ')\n",
    "    VM_class_list = []\n",
    "    for i in range(len(VM_class)):\n",
    "        if VM_class[i][0:2] == 'VM':\n",
    "            VM_class_list.append(VM_class[i])\n",
    "    VM_class_all.append(VM_class_list)\n",
    "    VM_class_all_count.append(len(VM_class_list))\n",
    "    \n",
    "df_tannins['class_code'] = VM_class_all\n",
    "df_tannins['count'] = VM_class_all_count"
   ]
  },
  {
   "cell_type": "markdown",
   "metadata": {},
   "source": [
    "### 2.2 Classification of tannins based on the annotation files of DNP"
   ]
  },
  {
   "cell_type": "code",
   "execution_count": null,
   "metadata": {},
   "outputs": [],
   "source": [
    "VM_name_all = []\n",
    "for k in range(len(df_tannins)):\n",
    "    VM_class = df_tannins['class_code'][k]\n",
    "    VM_name = []\n",
    "    for i in VM_class:\n",
    "        a = int(i[2:])\n",
    "        if a==6000:\n",
    "            VM_name.append('Simple gallate ester tannins')\n",
    "        elif a==6050:\n",
    "            VM_name.append('Galloylgalloyl tannins')\n",
    "        elif a == 6100:\n",
    "            VM_name.append('Hexahydroxydiphenoyl ester tannins')\n",
    "        elif a==6200:\n",
    "            VM_name.append('Dehydrohexahydroxydiphenoyl ester tannins')\n",
    "        elif a==6300:\n",
    "            VM_name.append('Elaeocarpusinoyl ester tannins')\n",
    "        elif a==6500:\n",
    "            VM_name.append('Chebuloyl tannins')\n",
    "        elif a==6600:\n",
    "            VM_name.append('Brevifoloyl ester tannins')\n",
    "        elif a == 6700:\n",
    "            VM_name.append('Dehydrodigalloyl ester tannins')\n",
    "        elif a == 6800:\n",
    "            VM_name.append('Valoneoyl tannins')\n",
    "        elif a==6850:\n",
    "            VM_name.append('Valoneoyl dilactone tannins')\n",
    "        elif a==6900:\n",
    "            VM_name.append('Sanguisorbyl ester tannins')\n",
    "        elif a == 7000:\n",
    "            VM_name.append('Flavogallonoyl ester tannins')\n",
    "        elif a==7050:\n",
    "            VM_name.append('Flavogallonoyl dilactone tannins')\n",
    "        elif a==7100:\n",
    "            VM_name.append('Tetrahydroxybenzofuran dicarboxylate tannins')\n",
    "        elif a==7200:\n",
    "            VM_name.append('Macaranoyl ester tannins')\n",
    "        elif a==7300:\n",
    "            VM_name.append('Tergalloyl ester tannins')\n",
    "        elif a==7350:\n",
    "            VM_name.append('Tergalloyl monolactone tannins')\n",
    "        elif a==7400:\n",
    "            VM_name.append('Trilloyl ester tannins')\n",
    "        elif a==7500:\n",
    "            VM_name.append('Euphorbinoyl ester tannins')\n",
    "        elif a==7600:\n",
    "            VM_name.append('Gallagyl ester tannins')\n",
    "        elif a==7650:\n",
    "            VM_name.append('Terchebuloyl ester tannins')\n",
    "        elif a==7790:\n",
    "            VM_name.append('Miscellaneous ellagitannins')\n",
    "    VM_name_all.append(VM_name)\n",
    "df_tannins['Classify'] = VM_name_all\n",
    "df1=df_tannins.drop(columns = ['class_code','count'])\n",
    "for i in range(len(df1)):\n",
    "    df1['Classify'][i]=' '.join(df1['Classify'][i])\n",
    "df1.to_csv('DNP_Tannins.csv',index=False)"
   ]
  },
  {
   "cell_type": "markdown",
   "metadata": {},
   "source": [
    "### 2.3 Calculate the glycosylation ratio"
   ]
  },
  {
   "cell_type": "code",
   "execution_count": null,
   "metadata": {},
   "outputs": [],
   "source": [
    "classify=['Simple gallate ester tannins','Galloylgalloyl tannins','Hexahydroxydiphenoyl ester tannins','Dehydrohexahydroxydiphenoyl ester tannins',\n",
    "          'Elaeocarpusinoyl ester tannins','Chebuloyl tannins', 'Brevifoloyl ester tannins', 'Dehydrodigalloyl ester tannins', \n",
    "          'Valoneoyl tannins', 'Valoneoyl dilactone tannins','Sanguisorbyl ester tannins','Flavogallonoyl ester tannins',\n",
    "          'Flavogallonoyl dilactone tannins','Tetrahydroxybenzofuran dicarboxylate tannins','Macaranoyl ester tannins','Tergalloyl ester tannins',\n",
    "          'Tergalloyl monolactone tannins','Trilloyl ester tannins','Euphorbinoyl ester tannins','Gallagyl ester tannins',\n",
    "          'Terchebuloyl ester tannins','Miscellaneous ellagitannins']\n",
    "data=[]\n",
    "for i in classify:\n",
    "    try:\n",
    "        df_classify=df1[df1['Classify'].str.contains(i)]\n",
    "        df_classify_hassugar=df1[(df1['Classify'].str.contains(i))&(df1['hadOrHasSugars']==True)]\n",
    "        glycosylation_ratio=round(len(df_classify_hassugar)/len(df_classify)*100,2)\n",
    "        data.append((i,len(df_classify),len(df_classify_hassugar),glycosylation_ratio))\n",
    "    except:\n",
    "        pass\n",
    "data=pd.DataFrame(data,columns=['Category','All','Sugar','Percentages(%)'])\n",
    "data"
   ]
  }
 ],
 "metadata": {
  "kernelspec": {
   "display_name": "Python 3",
   "language": "python",
   "name": "python3"
  },
  "language_info": {
   "codemirror_mode": {
    "name": "ipython",
    "version": 3
   },
   "file_extension": ".py",
   "mimetype": "text/x-python",
   "name": "python",
   "nbconvert_exporter": "python",
   "pygments_lexer": "ipython3",
   "version": "3.7.0"
  }
 },
 "nbformat": 4,
 "nbformat_minor": 2
}
