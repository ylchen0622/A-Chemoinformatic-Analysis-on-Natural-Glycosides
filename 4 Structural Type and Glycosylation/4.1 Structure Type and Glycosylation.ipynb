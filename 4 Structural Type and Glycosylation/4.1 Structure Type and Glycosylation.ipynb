{
 "cells": [
  {
   "cell_type": "markdown",
   "metadata": {},
   "source": [
    "### Statistics for the glycosylation ratio by each compound type"
   ]
  },
  {
   "cell_type": "code",
   "execution_count": null,
   "metadata": {},
   "outputs": [],
   "source": [
    "from rdkit import Chem\n",
    "import numpy as np\n",
    "import pandas as pd\n",
    "\n",
    "# Read the results of deglycosylation \n",
    "df_SRU = pd.read_csv(\"../3 Removal Sugar/3.1 Removal All Sugar/deglycosylation_results.csv\")\n",
    "\n",
    "# Add the information of biological sources and structural types\n",
    "DNP_original_codes = []\n",
    "file = open('DNP_compound_class.txt','r')\n",
    "for line in file.readlines():\n",
    "    line=line.strip().split('\t')\n",
    "    DNP_original_codes.append(line)    \n",
    "file.close()\n",
    "class_df = pd.DataFrame(DNP_original_codes)\n",
    "class_df = class_df.rename(columns={0:'ID',1:'codes'})\n",
    "df=pd.merge(df_SRU,class_df,on=['ID'])\n",
    "df = df[~df['codes'].isna()]\n",
    "df.to_csv('Structure_Codes.csv',index=False)\n",
    "\n",
    "# Get the deglycosylated results of compounds with structural types information\n",
    "class_list=['VA','VC','VE','VF','VG','VH','VI','VK','VM','VO','VQ','VS','VT','VV','VX','VY']\n",
    "data=df[df['codes'].str.contains('VA')|df['codes'].str.contains('VC')|df['codes'].str.contains('VE')|df['codes'].str.contains('VF')|df['codes'].str.contains('VG')\n",
    "  |df['codes'].str.contains('VH')|df['codes'].str.contains('VI')|df['codes'].str.contains('VK')|df['codes'].str.contains('VM')|df['codes'].str.contains('VO')\n",
    "  |df['codes'].str.contains('VQ')|df['codes'].str.contains('VS')|df['codes'].str.contains('VT')|df['codes'].str.contains('VV')|df['codes'].str.contains('VX')\n",
    "  |df['codes'].str.contains('VY')]\n",
    "data.reset_index(drop=True,inplace=True)\n",
    "data.to_csv('StructureType_SugarResults.csv',index=False)\n",
    "\n",
    "# Statistics for the glycosylation ratio by each compound type\n",
    "class_list=['VA','VC','VE','VF','VG','VH','VI','VK','VM','VO','VQ','VS','VT','VV','VX','VY']\n",
    "data=[]\n",
    "def Class_Sugar(Code):\n",
    "    df_class=df[df['codes'].str.contains(Code)]\n",
    "    filename=Code+'_Sugar.csv'\n",
    "    df_class.to_csv(filename,index=False)\n",
    "    df_class_sugar=df[(df['codes'].str.contains(Code))&(df['hadOrHasSugars']==True)]\n",
    "    percentages=len(df_class_sugar)/len(df_class)*100\n",
    "    data.append((Code,len(df_class),len(df_class_sugar),percentages))\n",
    "    return data\n",
    "for i in class_list:\n",
    "    Class_Sugar(i)\n",
    "data=pd.DataFrame(data,columns=['Class','All','HasSugar','Percentages(%)'])\n",
    "data['Percentages(%)']=round(data['Percentages(%)'],2)\n",
    "data"
   ]
  }
 ],
 "metadata": {
  "kernelspec": {
   "display_name": "Python 3",
   "language": "python",
   "name": "python3"
  },
  "language_info": {
   "codemirror_mode": {
    "name": "ipython",
    "version": 3
   },
   "file_extension": ".py",
   "mimetype": "text/x-python",
   "name": "python",
   "nbconvert_exporter": "python",
   "pygments_lexer": "ipython3",
   "version": "3.7.0"
  }
 },
 "nbformat": 4,
 "nbformat_minor": 2
}
