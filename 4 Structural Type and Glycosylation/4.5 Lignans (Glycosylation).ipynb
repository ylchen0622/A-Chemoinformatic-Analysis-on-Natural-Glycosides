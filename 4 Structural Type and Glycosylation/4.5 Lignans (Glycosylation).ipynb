{
 "cells": [
  {
   "cell_type": "markdown",
   "metadata": {},
   "source": [
    "## Glycosylation ratio of each subclass of lignans"
   ]
  },
  {
   "cell_type": "code",
   "execution_count": null,
   "metadata": {},
   "outputs": [],
   "source": [
    "from rdkit import Chem\n",
    "import numpy as np\n",
    "import pandas as pd"
   ]
  },
  {
   "cell_type": "markdown",
   "metadata": {},
   "source": [
    "### 1. Calculate the glycosylation ratio of lignans in DNP"
   ]
  },
  {
   "cell_type": "code",
   "execution_count": null,
   "metadata": {},
   "outputs": [],
   "source": [
    "df=pd.read_csv('Structure_Codes.csv')\n",
    "df=df[(df['codes'].str.contains('VA')|df['codes'].str.contains('VC')|df['codes'].str.contains('VE')|df['codes'].str.contains('VF')|df['codes'].str.contains('VG')\n",
    "  |df['codes'].str.contains('VH')|df['codes'].str.contains('VI')|df['codes'].str.contains('VK')|df['codes'].str.contains('VM')|df['codes'].str.contains('VO')\n",
    "  |df['codes'].str.contains('VQ')|df['codes'].str.contains('VS')|df['codes'].str.contains('VT')|df['codes'].str.contains('VV')|df['codes'].str.contains('VX')\n",
    "  |df['codes'].str.contains('VY')|df['codes'].str.contains('VZ'))]\n",
    "df_lignans=df[df['codes'].str.contains('VO')]\n",
    "df_lignans.reset_index(drop=True,inplace=True)\n",
    "len(df_lignans[df_lignans['hadOrHasSugars']==True])/len(df_lignans)"
   ]
  },
  {
   "cell_type": "markdown",
   "metadata": {},
   "source": [
    "### 2. Calculate the glycosylation ratio of each subclass of lignans"
   ]
  },
  {
   "cell_type": "markdown",
   "metadata": {},
   "source": [
    "### 2.1 Get the CRCNumber of lignans"
   ]
  },
  {
   "cell_type": "code",
   "execution_count": null,
   "metadata": {},
   "outputs": [],
   "source": [
    "VO_class_all = []\n",
    "VO_class_all_count = []\n",
    "for k in range(len(df_lignans)):\n",
    "    VO_class = df_lignans['codes'][k]\n",
    "    VO_class = VO_class.split(', ')\n",
    "    VO_class_list = []\n",
    "    for i in range(len(VO_class)):\n",
    "        if VO_class[i][0:2] == 'VO':\n",
    "            VO_class_list.append(VO_class[i])\n",
    "    VO_class_all.append(VO_class_list)\n",
    "    VO_class_all_count.append(len(VO_class_list))\n",
    "df_lignans['class_code'] = VO_class_all\n",
    "df_lignans['count'] = VO_class_all_count"
   ]
  },
  {
   "cell_type": "markdown",
   "metadata": {},
   "source": [
    "### 2.2 Classification of lignans based on the annotation files of DNP"
   ]
  },
  {
   "cell_type": "code",
   "execution_count": null,
   "metadata": {},
   "outputs": [],
   "source": [
    "VO_name_all = []\n",
    "for k in range(len(df_lignans)):\n",
    "    VO_class = df_lignans['class_code'][k]\n",
    "    VO_name = []\n",
    "    for i in VO_class:\n",
    "        a = int(i[2:])\n",
    "        if a==20:\n",
    "            VO_name.append('Lignan monomers')\n",
    "        elif (a==50) or (a==100):\n",
    "            VO_name.append('Dibenzylbutane lignans')\n",
    "        elif a == 150:\n",
    "            VO_name.append('Saturated dibenzylbutyrolactone and lactol lignans')\n",
    "        elif a==200:\n",
    "            VO_name.append('Unsaturated dibenzylbutyrolactone and lactol lignans')\n",
    "        elif (a==250) or (a==280) or (a==300) or (a==350):\n",
    "            VO_name.append('Epoxyfuranoid lignans')\n",
    "        elif (a==400) or (a==450) or (a==470):\n",
    "            VO_name.append('Furofuranoid lignans')\n",
    "        elif a==500:\n",
    "            VO_name.append('Simple 2,7’-cyclolignans arylnaphthalenes')\n",
    "        elif a == 550:\n",
    "            VO_name.append('2,7’-Cyclolignans side-chain oxygenated')\n",
    "        elif a == 600:\n",
    "            VO_name.append('2,7’-Cyclo-9,9’-epoxylignans')\n",
    "        elif a==620:\n",
    "            VO_name.append('2,7’-Cyclolignan-9,9’-olides')\n",
    "        elif a==630:\n",
    "            VO_name.append('2,7’-Cyclolignan-9’,9-olides')\n",
    "        elif a == 640:\n",
    "            VO_name.append('Miscellaneous naphthalenoid lignans')\n",
    "        elif a==670:\n",
    "            VO_name.append('7’,7’/7’,8’-Cyclolignans cyclobutanes')\n",
    "        elif a==750:\n",
    "            VO_name.append('2,2’-Cyclolignans dibenzocyclooctadienes')\n",
    "        elif a==800:\n",
    "            VO_name.append('Norlignans')\n",
    "        elif a==850:\n",
    "            VO_name.append('Homolignans')\n",
    "        elif a==1000:\n",
    "            VO_name.append('Sesquilignans')\n",
    "        elif a==1200:\n",
    "            VO_name.append('Bilignans')\n",
    "        elif a==1500:\n",
    "            VO_name.append('Neolignans')\n",
    "        elif a==1600:\n",
    "            VO_name.append('Flavonolignans')\n",
    "        elif a==1650:\n",
    "            VO_name.append('Stilbenolignans')\n",
    "        elif a>=8000 and a<=8050:\n",
    "            VO_name.append('Diarylheptanoids')\n",
    "    VO_name_all.append(VO_name)\n",
    "df_lignans['Classify'] = VO_name_all\n",
    "df1=df_lignans.drop(columns = ['class_code','count'])\n",
    "for i in range(len(df1)):\n",
    "    df1['Classify'][i]=' '.join(df1['Classify'][i])\n",
    "df1.to_csv('DNP_Lignans.csv',index=False)"
   ]
  },
  {
   "cell_type": "markdown",
   "metadata": {},
   "source": [
    "### 2.3 Calculate the glycosylation ratio"
   ]
  },
  {
   "cell_type": "code",
   "execution_count": null,
   "metadata": {},
   "outputs": [],
   "source": [
    "classify=['Lignan monomers','Dibenzylbutane lignans','Saturated dibenzylbutyrolactone and lactol lignans',\n",
    "          'Unsaturated dibenzylbutyrolactone and lactol lignans','Epoxyfuranoid lignans','Furofuranoid lignans', \n",
    "          'Simple 2,7’-cyclolignans arylnaphthalenes', '2,7’-Cyclolignans side-chain oxygenated', '2,7’-Cyclo-9,9’-epoxylignans',\n",
    "          '2,7’-Cyclolignan-9,9’-olides','2,7’-Cyclolignan-9’,9-olides','Miscellaneous naphthalenoid lignans',\n",
    "          '7’,7’/7’,8’-Cyclolignans cyclobutanes','2,2’-Cyclolignans dibenzocyclooctadienes','Norlignans',\n",
    "          'Homolignans','Sesquilignans','Bilignans','Neolignans','Flavonolignans','Stilbenolignans','Diarylheptanoids']\n",
    "data=[]\n",
    "for i in classify:\n",
    "    try:\n",
    "        df_classify=df1[df1['Classify'].str.contains(i)]\n",
    "        df_classify_hassugar=df1[(df1['Classify'].str.contains(i))&(df1['hadOrHasSugars']==True)]\n",
    "        glycosylation_ratio=round(len(df_classify_hassugar)/len(df_classify)*100,2)\n",
    "        data.append((i,len(df_classify),len(df_classify_hassugar),glycosylation_ratio))\n",
    "    except:\n",
    "        pass\n",
    "data=pd.DataFrame(data,columns=['Category','All','Sugar','Percentages(%)'])\n",
    "data"
   ]
  }
 ],
 "metadata": {
  "kernelspec": {
   "display_name": "Python 3",
   "language": "python",
   "name": "python3"
  },
  "language_info": {
   "codemirror_mode": {
    "name": "ipython",
    "version": 3
   },
   "file_extension": ".py",
   "mimetype": "text/x-python",
   "name": "python",
   "nbconvert_exporter": "python",
   "pygments_lexer": "ipython3",
   "version": "3.7.0"
  }
 },
 "nbformat": 4,
 "nbformat_minor": 2
}
