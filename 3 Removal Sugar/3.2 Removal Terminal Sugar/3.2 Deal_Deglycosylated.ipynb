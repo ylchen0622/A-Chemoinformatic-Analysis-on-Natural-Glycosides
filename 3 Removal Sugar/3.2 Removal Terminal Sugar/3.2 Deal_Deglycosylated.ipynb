{
 "cells": [
  {
   "cell_type": "markdown",
   "metadata": {},
   "source": [
    "### Removed terminal sugars based on SRU"
   ]
  },
  {
   "cell_type": "code",
   "execution_count": null,
   "metadata": {},
   "outputs": [],
   "source": [
    "import pandas as pd\n",
    "from rdkit import rdBase, Chem\n",
    "\n",
    "# Read the results of deglycosylation\n",
    "df = pd.read_csv(\"deglycosylation_results.txt\")\n",
    "str1 = 'Nr;ID;originalMoleculeSMILES;deglycosylatedMoleculeSMILES;hadOrHasSugars;SugarMoietySMILES'\n",
    "list1 = str1.split(';')\n",
    "df1 = pd.DataFrame(columns=list1[1:])\n",
    "def splite(x):\n",
    "    p = x.split(\";\")[1:]\n",
    "    return p\n",
    "q1 = df[\"Nr;ID;originalMoleculeSMILES;deglycosylatedMoleculeSMILES;hadOrHasSugars;SugarMoietySMILES\"].map(splite)\n",
    "ID = []\n",
    "originalMoleculeSMILES = []\n",
    "deglycosylatedMoleculeSMILES = []\n",
    "hadOrHasSugars = []\n",
    "SugarMoietySMILES = []\n",
    "for i in range(len(q1)):\n",
    "    ID.append(q1[i][0])\n",
    "    originalMoleculeSMILES.append(q1[i][1])\n",
    "    deglycosylatedMoleculeSMILES.append(q1[i][2])\n",
    "    hadOrHasSugars.append(q1[i][3])\n",
    "    if len(q1[i])>=5:\n",
    "        SugarMoietySMILES.append(q1[i][4:])\n",
    "    else:\n",
    "        SugarMoietySMILES.append([])\n",
    "df1[\"ID\"] = ID\n",
    "df1[\"originalMoleculeSMILES\"] = originalMoleculeSMILES\n",
    "df1[\"deglycosylatedMoleculeSMILES\"] = deglycosylatedMoleculeSMILES\n",
    "df1[\"hadOrHasSugars\"] = hadOrHasSugars\n",
    "df1[\"SugarMoietySMILES\"] = SugarMoietySMILES\n",
    "\n",
    "# Standardized the structure of compounds based on RDKit\n",
    "originalMoleculeSMILES = []\n",
    "deglycosylatedMoleculeSMILES = []\n",
    "ID_list = []\n",
    "for i in range(len(df1)):\n",
    "    origi = df1['originalMoleculeSMILES'][i]\n",
    "    degly = df1['deglycosylatedMoleculeSMILES'][i]\n",
    "    try:\n",
    "        ori_smi = Chem.MolToSmiles(Chem.MolFromSmiles(origi))\n",
    "        originalMoleculeSMILES.append(ori_smi) \n",
    "        if degly == '[empty]':\n",
    "            deglycosylatedMoleculeSMILES.append(degly)\n",
    "        else:\n",
    "            degly_smi = Chem.MolToSmiles(Chem.MolFromSmiles(degly))\n",
    "            deglycosylatedMoleculeSMILES.append(degly_smi)\n",
    "        ID_list.append(df1['ID'][i])\n",
    "    except:\n",
    "        pass\n",
    "df1 = df1[df1.ID.isin(ID_list)]\n",
    "df1['originalMoleculeSMILES'] = originalMoleculeSMILES\n",
    "df1['deglycosylatedMoleculeSMILES'] = deglycosylatedMoleculeSMILES \n",
    "df1.to_csv(\"deglycosylation_results.csv\",index=False)\n",
    "\n",
    "# Statistics for the glycosylation ratio of NPs\n",
    "df_HasSugar=df1[df1['hadOrHasSugars']=='true']\n",
    "df_HasSugar.to_csv('HasSugar.csv',index=False)\n",
    "df_NoSugar=df1[df1['hadOrHasSugars']=='false']\n",
    "df_NoSugar.to_csv('NoSugar.csv',index=False)\n",
    "df_Sugar_Percentage=len(df_HasSugar)/(len(df_HasSugar)+len(df_NoSugar))*100\n",
    "Glycosides=[]\n",
    "Glycosides.append((len(df_HasSugar),len(df_NoSugar),df_Sugar_Percentage))\n",
    "Glycosides=pd.DataFrame(Glycosides,columns=['HasSugar','NoSugar','Percentage(%)'])\n",
    "Glycosides['Percentage(%)']=round(Glycosides['Percentage(%)'],2)\n",
    "Glycosides"
   ]
  }
 ],
 "metadata": {
  "kernelspec": {
   "display_name": "Python 3",
   "language": "python",
   "name": "python3"
  },
  "language_info": {
   "codemirror_mode": {
    "name": "ipython",
    "version": 3
   },
   "file_extension": ".py",
   "mimetype": "text/x-python",
   "name": "python",
   "nbconvert_exporter": "python",
   "pygments_lexer": "ipython3",
   "version": "3.7.0"
  }
 },
 "nbformat": 4,
 "nbformat_minor": 2
}
