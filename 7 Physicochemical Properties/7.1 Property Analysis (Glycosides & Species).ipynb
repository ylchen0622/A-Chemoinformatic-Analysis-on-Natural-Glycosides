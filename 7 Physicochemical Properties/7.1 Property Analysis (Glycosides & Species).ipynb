{
 "cells": [
  {
   "cell_type": "markdown",
   "metadata": {},
   "source": [
    "## Physicochemical properties of glycosides from different biological sources"
   ]
  },
  {
   "cell_type": "code",
   "execution_count": null,
   "metadata": {},
   "outputs": [],
   "source": [
    "import pandas as pd\n",
    "from rdkit import Chem\n",
    "import collections\n",
    "from rdkit.Chem import rdDepictor\n",
    "from rdkit.Chem import rdMolDescriptors as rdescriptors\n",
    "from rdkit.Chem import Descriptors\n",
    "import matplotlib.pyplot as plt\n",
    "import seaborn as sns\n",
    "from scipy import stats"
   ]
  },
  {
   "cell_type": "markdown",
   "metadata": {},
   "source": [
    "### 1. Natural glycosides with biological source --filter out glycosides without aglycones (sugar itself)"
   ]
  },
  {
   "cell_type": "code",
   "execution_count": null,
   "metadata": {},
   "outputs": [],
   "source": [
    "df=pd.read_csv('../5 Biological Source and Glycosylation/Species_SugarResults.csv')\n",
    "df2=df[(df['hadOrHasSugars']==True)&(~(df['deglycosylatedMoleculeSMILES']=='[empty]'))]\n",
    "df2.reset_index(drop=True,inplace=True)\n",
    "df2"
   ]
  },
  {
   "cell_type": "markdown",
   "metadata": {},
   "source": [
    "### 2. The number of sugar units of natural glycosides"
   ]
  },
  {
   "cell_type": "code",
   "execution_count": null,
   "metadata": {},
   "outputs": [],
   "source": [
    "sugar_num_count=[]\n",
    "for i in range(len(df2)):\n",
    "    sugar=str(df2['SugarMoietySMILES'][i])\n",
    "    if(sugar!='[]'):\n",
    "        num=sugar.split(',')\n",
    "        sugar_num_count.append(len(num))\n",
    "    else:\n",
    "        sugar_num_count.append(0)\n",
    "df2['NumSugar']=sugar_num_count\n",
    "df2"
   ]
  },
  {
   "cell_type": "markdown",
   "metadata": {},
   "source": [
    "### 3. Calculate the physicochemical properties of natural glycosides"
   ]
  },
  {
   "cell_type": "code",
   "execution_count": null,
   "metadata": {},
   "outputs": [],
   "source": [
    "smileList = df2.originalMoleculeSMILES.values\n",
    "HBA = []\n",
    "HBD = []\n",
    "AlogP = []\n",
    "TPSA = []\n",
    "num_rotatable_bonds = []\n",
    "num_heavy_atoms = []\n",
    "MW = []\n",
    "FractionCSP3 = []\n",
    "NumAromaticRings = []\n",
    "RingCount = []\n",
    "NOCount=[]\n",
    "NHOHCount=[]\n",
    "NumCAtoms=[]\n",
    "NumOAtoms=[]\n",
    "NumNAtoms=[]\n",
    "NumSAtoms=[]\n",
    "NumAliphaticRings=[]\n",
    "NumHeteroatoms=[]\n",
    "for i in smileList:\n",
    "    mol = Chem.MolFromSmiles(i)\n",
    "    HBA.append(rdescriptors.CalcNumLipinskiHBA(mol))\n",
    "    HBD.append(rdescriptors.CalcNumLipinskiHBD(mol))\n",
    "    TPSA.append(float(rdescriptors.CalcTPSA(mol)))\n",
    "    FractionCSP3.append(rdescriptors.CalcFractionCSP3(mol))\n",
    "    num_heavy_atoms.append(mol.GetNumHeavyAtoms())\n",
    "    num_rotatable_bonds.append(Descriptors.NumRotatableBonds(mol))\n",
    "    AlogP.append(Descriptors.MolLogP(mol))\n",
    "    MW.append(float(Descriptors.MolWt(mol)))\n",
    "    NumAromaticRings.append(Descriptors.NumAromaticRings(mol))\n",
    "    RingCount.append(Descriptors.RingCount(mol))\n",
    "    NOCount.append(Descriptors.NOCount(mol))\n",
    "    NHOHCount.append(Descriptors.NHOHCount(mol))\n",
    "    NumAliphaticRings.append(Descriptors.NumAliphaticRings(mol))\n",
    "    NumHeteroatoms.append(Descriptors.NumHeteroatoms(mol))\n",
    "    C=N=O=S=0\n",
    "    for j in i:\n",
    "        if j=='C':\n",
    "            C=C+1\n",
    "        elif j=='O':\n",
    "            O=O+1\n",
    "        elif j=='N':\n",
    "            N=N+1\n",
    "        elif j=='S':\n",
    "            S=S+1\n",
    "    NumCAtoms.append(C)\n",
    "    NumOAtoms.append(O)\n",
    "    NumNAtoms.append(N)\n",
    "    NumSAtoms.append(S)\n",
    "df2[\"HBA\"] = HBA\n",
    "df2[\"HBD\"] = HBD\n",
    "df2[\"AlogP\"] = AlogP\n",
    "df2[\"TPSA\"] = TPSA\n",
    "df2[\"num_rotatable_bonds\"] = num_rotatable_bonds\n",
    "df2[\"num_heavy_atoms\"] = num_heavy_atoms\n",
    "df2[\"MW\"] = MW\n",
    "df2[\"NumAromaticRings\"] = NumAromaticRings\n",
    "df2[\"RingCount\"] = RingCount\n",
    "df2[\"FractionCSP3\"] = FractionCSP3\n",
    "df2['NOCount']=NOCount\n",
    "df2['NHOHCount']=NHOHCount\n",
    "df2['NumCAtoms']=NumCAtoms\n",
    "df2['NumOAtoms']=NumOAtoms\n",
    "df2['NumNAtoms']=NumNAtoms\n",
    "df2['NumSAtoms']=NumSAtoms\n",
    "df2['NumAliphaticRings']=NumAliphaticRings\n",
    "df2['NumHeteroatoms']=NumHeteroatoms\n",
    "df2.to_csv('Glycosides_Property.csv',index=False)\n",
    "df2"
   ]
  },
  {
   "cell_type": "markdown",
   "metadata": {},
   "source": [
    "### 4. The average number of physicochemical properties of glycosides from different biological sources"
   ]
  },
  {
   "cell_type": "code",
   "execution_count": null,
   "metadata": {},
   "outputs": [],
   "source": [
    "species_list=['Animal','Plant','Bacteria','Fungi']\n",
    "property_list=['HBA','HBD','AlogP','TPSA','MW','num_rotatable_bonds','num_heavy_atoms','NumAromaticRings','RingCount','FractionCSP3','NOCount',\n",
    "              'NHOHCount','NumCAtoms','NumOAtoms','NumNAtoms','NumSAtoms','NumAliphaticRings','NumHeteroatoms']\n",
    "Glycosides_Property=pd.DataFrame(property_list,columns=[''])\n",
    "for i in species_list:\n",
    "    compound=df2[df2[i]==1]\n",
    "    compound_counts=len(compound)\n",
    "    Ave_Property=[]\n",
    "    for j in property_list:\n",
    "        ave_property=sum(compound[j].values)/compound_counts\n",
    "        ave_property=round(ave_property,2)\n",
    "        Ave_Property.append(ave_property)\n",
    "    Glycosides_Property[i]=Ave_Property\n",
    "Glycosides_Property"
   ]
  },
  {
   "cell_type": "markdown",
   "metadata": {},
   "source": [
    "### 5. Physicochemical properties of all glycosides"
   ]
  },
  {
   "cell_type": "code",
   "execution_count": null,
   "metadata": {},
   "outputs": [],
   "source": [
    "compound=df2\n",
    "compound_counts=len(compound)\n",
    "Ave_Property=[]\n",
    "property_list=['HBA','HBD','AlogP','TPSA','MW','num_rotatable_bonds','num_heavy_atoms','NumAromaticRings','RingCount','FractionCSP3','NOCount',\n",
    "              'NHOHCount','NumCAtoms','NumOAtoms','NumNAtoms','NumSAtoms','NumAliphaticRings','NumHeteroatoms']\n",
    "for j in property_list:\n",
    "    ave_property=sum(compound[j].values)/compound_counts\n",
    "    ave_property=round(ave_property,2)\n",
    "    Ave_Property.append((j,ave_property))\n",
    "pd.DataFrame(Ave_Property,columns=['Property','Ave'])"
   ]
  }
 ],
 "metadata": {
  "kernelspec": {
   "display_name": "Python 3",
   "language": "python",
   "name": "python3"
  },
  "language_info": {
   "codemirror_mode": {
    "name": "ipython",
    "version": 3
   },
   "file_extension": ".py",
   "mimetype": "text/x-python",
   "name": "python",
   "nbconvert_exporter": "python",
   "pygments_lexer": "ipython3",
   "version": "3.7.0"
  }
 },
 "nbformat": 4,
 "nbformat_minor": 2
}
