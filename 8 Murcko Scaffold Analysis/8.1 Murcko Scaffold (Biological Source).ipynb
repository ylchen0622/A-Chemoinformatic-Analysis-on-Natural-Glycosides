{
 "cells": [
  {
   "cell_type": "markdown",
   "metadata": {},
   "source": [
    "## The Murcko scaffold of natural products with biological source information (aglycones and non-glycosides)"
   ]
  },
  {
   "cell_type": "code",
   "execution_count": null,
   "metadata": {},
   "outputs": [],
   "source": [
    "import pandas as pd\n",
    "from rdkit import Chem\n",
    "from rdkit.Chem import Draw\n",
    "from rdkit.Chem.Scaffolds import MurckoScaffold\n",
    "from rdkit.Chem import AllChem as ch\n",
    "from rdkit.Chem import Draw as d\n",
    "import pandas as pd\n",
    "from rdkit import DataStructs\n",
    "import collections\n",
    "from rdkit.Chem.MolStandardize import rdMolStandardize"
   ]
  },
  {
   "cell_type": "markdown",
   "metadata": {},
   "source": [
    "### 1. Deglycosylated natural products with biological source information"
   ]
  },
  {
   "cell_type": "code",
   "execution_count": null,
   "metadata": {},
   "outputs": [],
   "source": [
    "df=pd.read_csv('../5 Biological Source and Glycosylation/Species_SugarResults.csv')\n",
    "df=df[df['deglycosylatedMoleculeSMILES']!='[empty]']"
   ]
  },
  {
   "cell_type": "markdown",
   "metadata": {},
   "source": [
    "### 2. Define the function to calculate the Murcko scaffold"
   ]
  },
  {
   "cell_type": "code",
   "execution_count": null,
   "metadata": {},
   "outputs": [],
   "source": [
    "def Murcko_Skeleton(df,filename):\n",
    "    deglycosylatedMoleculeSMILES=df.deglycosylatedMoleculeSMILES.values\n",
    "    mols=[]\n",
    "    for i in deglycosylatedMoleculeSMILES:\n",
    "        mol=Chem.MolFromSmiles(i)\n",
    "        mol_frags = Chem.rdmolops.GetMolFrags(mol, asMols = True)\n",
    "        largest_mol = max(mol_frags, default=mol, key=lambda m: m.GetNumAtoms())\n",
    "        mols.append(largest_mol)\n",
    "        \n",
    "    database_atomic_scaffolds = [MurckoScaffold.GetScaffoldForMol(mol) for mol in mols]\n",
    "    for i in database_atomic_scaffolds:\n",
    "        i.Compute2DCoords()\n",
    "    def genericize_scaffold(s):\n",
    "        try:\n",
    "            return MurckoScaffold.MakeScaffoldGeneric(s)\n",
    "        except ValueError:\n",
    "            return None\n",
    "    database_grafh_scaffolds = [genericize_scaffold(s) for s in database_atomic_scaffolds]\n",
    "    scaffold_smiles = [Chem.MolToSmiles(scaffold) for scaffold in database_atomic_scaffolds if scaffold != None]\n",
    "    \n",
    "    df['Scaffold_Smiles']=scaffold_smiles\n",
    "    df.to_csv(filename+'_Scaffold.csv',index=False)\n",
    "    \n",
    "    counter=collections.Counter(scaffold_smiles)\n",
    "    columns = ['Smiles','Num']\n",
    "    results = pd.DataFrame(counter.items(),columns=columns)\n",
    "    results = results.sort_values(by=['Num'],ascending=False)\n",
    "    results.reset_index(drop=True,inplace=True)\n",
    "    results.to_csv(filename+'_Murcko.csv',index=False)\n"
   ]
  },
  {
   "cell_type": "markdown",
   "metadata": {},
   "source": [
    "### 3. The Murcko Scaffolds"
   ]
  },
  {
   "cell_type": "markdown",
   "metadata": {},
   "source": [
    "### 3.1 The murcko scaffold of all natural products with biological source information"
   ]
  },
  {
   "cell_type": "code",
   "execution_count": null,
   "metadata": {},
   "outputs": [],
   "source": [
    "Murcko_Skeleton(df,'All_HasSpecies')"
   ]
  },
  {
   "cell_type": "markdown",
   "metadata": {},
   "source": [
    "### 3.2 The murcko scaffold of aglycones"
   ]
  },
  {
   "cell_type": "code",
   "execution_count": null,
   "metadata": {},
   "outputs": [],
   "source": [
    "df_aglycone=df[(df['hadOrHasSugars']==True)]\n",
    "df_aglycone.reset_index(drop=True,inplace=True)\n",
    "Murcko_Skeleton(df_aglycone,'aglycone')"
   ]
  },
  {
   "cell_type": "markdown",
   "metadata": {},
   "source": [
    "### 3.3 The murcko scaffold of non-glycosides"
   ]
  },
  {
   "cell_type": "code",
   "execution_count": null,
   "metadata": {},
   "outputs": [],
   "source": [
    "df_nonglycoside=df[df['hadOrHasSugars']==False]\n",
    "df_nonglycoside.reset_index(drop=True,inplace=True)\n",
    "Murcko_Skeleton(df_nonglycoside,'nonglycoside')"
   ]
  },
  {
   "cell_type": "markdown",
   "metadata": {},
   "source": [
    "### 3.4 The murcko scaffold from different biological sources (Animal, Plant, Bacteria, Fungi)"
   ]
  },
  {
   "cell_type": "code",
   "execution_count": null,
   "metadata": {},
   "outputs": [],
   "source": [
    "df_Animal=df[(df['Animal']==1)&(df['hadOrHasSugars']==True)]\n",
    "df_Plant=df[(df['Plant']==1)&(df['hadOrHasSugars']==True)]\n",
    "df_Bacteria=df[(df['Bacteria']==1)&(df['hadOrHasSugars']==True)]\n",
    "df_Fungi=df[(df['Fungi']==1)&(df['hadOrHasSugars']==True)]\n",
    "Murcko_Skeleton(df_Animal,'Animal')\n",
    "Murcko_Skeleton(df_Plant,'Plant')\n",
    "Murcko_Skeleton(df_Bacteria,'Bacteria')\n",
    "Murcko_Skeleton(df_Fungi,'Fungi')"
   ]
  }
 ],
 "metadata": {
  "kernelspec": {
   "display_name": "Python 3",
   "language": "python",
   "name": "python3"
  },
  "language_info": {
   "codemirror_mode": {
    "name": "ipython",
    "version": 3
   },
   "file_extension": ".py",
   "mimetype": "text/x-python",
   "name": "python",
   "nbconvert_exporter": "python",
   "pygments_lexer": "ipython3",
   "version": "3.7.0"
  }
 },
 "nbformat": 4,
 "nbformat_minor": 2
}
