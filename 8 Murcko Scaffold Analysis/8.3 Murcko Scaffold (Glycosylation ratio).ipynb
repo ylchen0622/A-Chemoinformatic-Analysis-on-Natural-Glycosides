{
 "cells": [
  {
   "cell_type": "markdown",
   "metadata": {},
   "source": [
    "## Murcko Scaffolds & Glycosylation Ratio"
   ]
  },
  {
   "cell_type": "code",
   "execution_count": null,
   "metadata": {},
   "outputs": [],
   "source": [
    "import pandas as pd\n",
    "from rdkit import Chem\n",
    "from rdkit.Chem import Draw\n",
    "from rdkit.Chem.Scaffolds import MurckoScaffold\n",
    "from rdkit.Chem import AllChem as ch\n",
    "from rdkit.Chem import Draw as d\n",
    "import pandas as pd\n",
    "from rdkit import DataStructs\n",
    "import collections\n",
    "from rdkit.Chem.MolStandardize import rdMolStandardize"
   ]
  },
  {
   "cell_type": "markdown",
   "metadata": {},
   "source": [
    "### 1. The glycosylation ratio of each murcko scaffold"
   ]
  },
  {
   "cell_type": "code",
   "execution_count": null,
   "metadata": {},
   "outputs": [],
   "source": [
    "df_all_murcko=pd.read_csv('All_HasSpecies_Murcko.csv')\n",
    "df_all_scaffold=pd.read_csv('All_HasSpecies_Scaffold.csv')\n",
    "data=[]\n",
    "for i in range(len(df_all_murcko)):\n",
    "    smiles=df_all_murcko['Smiles'][i]\n",
    "    if pd.isna(smiles):\n",
    "        pass\n",
    "    else:\n",
    "        hasmurcko=df_all_scaffold[~df_all_scaffold['Scaffold_Smiles'].isnull()]\n",
    "        compound=df_all_scaffold[df_all_scaffold['Scaffold_Smiles']==smiles]\n",
    "        compound_glycoside=df_all_scaffold[(df_all_scaffold['Scaffold_Smiles']==smiles)&(df_all_scaffold['hadOrHasSugars']==True)]\n",
    "        percentage=round(len(compound)/len(hasmurcko)*100,2)\n",
    "        glycosides_ratio=round(len(compound_glycoside)/len(compound)*100,2)\n",
    "        data.append((smiles,len(compound),len(compound_glycoside),percentage,glycosides_ratio))\n",
    "data=pd.DataFrame(data,columns=['Murcko_Smiles','All','Sugar','Percentage(%)','Glycosides_Ratio(%)'])\n",
    "data.to_csv('All_HasSpecies_Murcko_glycosylation.csv',index=False)\n",
    "data"
   ]
  },
  {
   "cell_type": "markdown",
   "metadata": {},
   "source": [
    "### 2. The glycosylation ratio of unique murcko scaffold in each biological source (APBF)"
   ]
  },
  {
   "cell_type": "code",
   "execution_count": null,
   "metadata": {},
   "outputs": [],
   "source": [
    "def Unique_Murcko_Glycosylation(df,filename):\n",
    "    data=[]\n",
    "    for i in range(len(df)):\n",
    "        unique_murcko=df['Smiles'][i]\n",
    "        unique_murcko_all_num=len(df_all_scaffold[df_all_scaffold['Scaffold_Smiles']==unique_murcko])\n",
    "        unique_murcko_hassugar_num=len(df_all_scaffold[(df_all_scaffold['Scaffold_Smiles']==unique_murcko)&(df_all_scaffold['hadOrHasSugars']==True)])\n",
    "        unique_murcko_glycosylation_ratio=round(unique_murcko_hassugar_num/unique_murcko_all_num*100,2)\n",
    "        data.append((unique_murcko,unique_murcko_all_num,unique_murcko_hassugar_num,unique_murcko_glycosylation_ratio))\n",
    "    data=pd.DataFrame(data,columns=['Smiles','All','Sugar','Percentages(%)'])\n",
    "    data.to_csv(filename+'_Glycosylation.csv',index=False)\n",
    "    \n",
    "df_animal_unique_murcko=pd.read_csv('Unique_Animal_Murcko.csv')\n",
    "df_plant_unique_murcko=pd.read_csv('Unique_Plant_Murcko.csv')\n",
    "df_bacteria_unique_murcko=pd.read_csv('Unique_Bacteria_Murcko.csv')\n",
    "df_fungi_unique_murcko=pd.read_csv('Unique_Fungi_Murcko.csv')\n",
    "\n",
    "Unique_Murcko_Glycosylation(df_animal_unique_murcko,'Animal_Unique_Murcko')\n",
    "Unique_Murcko_Glycosylation(df_plant_unique_murcko,'Plant_Unique_Murcko')\n",
    "Unique_Murcko_Glycosylation(df_bacteria_unique_murcko,'Bacteria_Unique_Murcko')\n",
    "Unique_Murcko_Glycosylation(df_fungi_unique_murcko,'Fungi_Unique_Murcko')"
   ]
  }
 ],
 "metadata": {
  "kernelspec": {
   "display_name": "Python 3",
   "language": "python",
   "name": "python3"
  },
  "language_info": {
   "codemirror_mode": {
    "name": "ipython",
    "version": 3
   },
   "file_extension": ".py",
   "mimetype": "text/x-python",
   "name": "python",
   "nbconvert_exporter": "python",
   "pygments_lexer": "ipython3",
   "version": "3.7.0"
  }
 },
 "nbformat": 4,
 "nbformat_minor": 2
}
