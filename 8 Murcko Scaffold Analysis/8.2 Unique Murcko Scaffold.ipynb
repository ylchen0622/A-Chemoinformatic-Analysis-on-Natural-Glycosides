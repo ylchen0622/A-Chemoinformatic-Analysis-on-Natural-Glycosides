{
 "cells": [
  {
   "cell_type": "markdown",
   "metadata": {},
   "source": [
    "## Unique Murcko Scaffold"
   ]
  },
  {
   "cell_type": "code",
   "execution_count": null,
   "metadata": {},
   "outputs": [],
   "source": [
    "import pandas as pd\n",
    "from rdkit import Chem\n",
    "from rdkit.Chem import Draw\n",
    "from rdkit.Chem.Scaffolds import MurckoScaffold\n",
    "from rdkit.Chem import AllChem as ch\n",
    "from rdkit.Chem import Draw as d\n",
    "import pandas as pd\n",
    "from rdkit import DataStructs\n",
    "import collections\n",
    "from rdkit.Chem.MolStandardize import rdMolStandardize"
   ]
  },
  {
   "cell_type": "markdown",
   "metadata": {},
   "source": [
    "### 1. The unique murcko scaffold of aglycones"
   ]
  },
  {
   "cell_type": "code",
   "execution_count": null,
   "metadata": {},
   "outputs": [],
   "source": [
    "df_aglycone_Murcko=pd.read_csv('aglycone_Murcko.csv')\n",
    "df_nonglycoside_Murcko=pd.read_csv('nonglycoside_Murcko.csv')\n",
    "df_aglycone_Murcko_Unique=df_aglycone_Murcko[~df_aglycone_Murcko.Smiles.isin(df_nonglycoside_Murcko.Smiles)]\n",
    "df_aglycone_Murcko_Unique.to_csv('Unique_Aglycone.csv',index=False)"
   ]
  },
  {
   "cell_type": "markdown",
   "metadata": {},
   "source": [
    "### 2. The unique murcko scaffold of non-glycosides"
   ]
  },
  {
   "cell_type": "code",
   "execution_count": null,
   "metadata": {},
   "outputs": [],
   "source": [
    "df_nonglycoside_Murcko_Unique=df_nonglycoside_Murcko[~df_nonglycoside_Murcko.Smiles.isin(df_aglycone_Murcko.Smiles)]\n",
    "df_nonglycoside_Murcko_Unique.to_csv('Unique_Nonglycosides.csv',index=False)"
   ]
  },
  {
   "cell_type": "markdown",
   "metadata": {},
   "source": [
    "### 3. The unique murcko scaffold of each biological source (Animal, Plant, Bacteria, Fungi)"
   ]
  },
  {
   "cell_type": "markdown",
   "metadata": {},
   "source": [
    "### 3.1 Define a function to get unique Murcko scaffold"
   ]
  },
  {
   "cell_type": "code",
   "execution_count": null,
   "metadata": {},
   "outputs": [],
   "source": [
    "def Unique_Scaffold(df1,df2,df3,df4):\n",
    "    df12=df1[~df1.Smiles.isin(df2.Smiles)]\n",
    "    df123 = df12[~df12.Smiles.isin(df3.Smiles)]\n",
    "    df1234 = df123[~df123.Smiles.isin(df4.Smiles)]\n",
    "    df1234 = df1234.sort_values(by='Num',ascending=False)\n",
    "    df1234.reset_index(drop=True,inplace=True)\n",
    "    return df1234"
   ]
  },
  {
   "cell_type": "markdown",
   "metadata": {},
   "source": [
    "### 3.2 The unique murcko scaffold of each biological source"
   ]
  },
  {
   "cell_type": "code",
   "execution_count": null,
   "metadata": {},
   "outputs": [],
   "source": [
    "df_Animal_Murcko=pd.read_csv('Animal_Murcko.csv')\n",
    "df_Plant_Murcko=pd.read_csv('Plant_Murcko.csv')\n",
    "df_Bacteria_Murcko=pd.read_csv('Bacteria_Murcko.csv')\n",
    "df_Fungi_Murcko=pd.read_csv('Fungi_Murcko.csv')\n",
    "Animals_Murcko_Unique=Unique_Scaffold(df_Animal_Murcko,df_Plant_Murcko,df_Bacteria_Murcko,df_Fungi_Murcko)\n",
    "Plants_Murcko_Unique=Unique_Scaffold(df_Plant_Murcko,df_Animal_Murcko,df_Bacteria_Murcko,df_Fungi_Murcko)\n",
    "Bacteria_Murcko_Unique=Unique_Scaffold(df_Bacteria_Murcko,df_Animal_Murcko,df_Plant_Murcko,df_Fungi_Murcko)\n",
    "Fungi_Murcko_Unique=Unique_Scaffold(df_Fungi_Murcko,df_Animal_Murcko,df_Plant_Murcko,df_Bacteria_Murcko)\n",
    "Animals_Murcko_Unique.to_csv(\"Unique_Animal_Murcko.csv\",index=False)\n",
    "Plants_Murcko_Unique.to_csv(\"Unique_Plant_Murcko.csv\",index=False)\n",
    "Bacteria_Murcko_Unique.to_csv(\"Unique_Bacteria_Murcko.csv\",index=False)\n",
    "Fungi_Murcko_Unique.to_csv(\"Unique_Fungi_Murcko.csv\",index=False)"
   ]
  }
 ],
 "metadata": {
  "kernelspec": {
   "display_name": "Python 3",
   "language": "python",
   "name": "python3"
  },
  "language_info": {
   "codemirror_mode": {
    "name": "ipython",
    "version": 3
   },
   "file_extension": ".py",
   "mimetype": "text/x-python",
   "name": "python",
   "nbconvert_exporter": "python",
   "pygments_lexer": "ipython3",
   "version": "3.7.0"
  }
 },
 "nbformat": 4,
 "nbformat_minor": 2
}
