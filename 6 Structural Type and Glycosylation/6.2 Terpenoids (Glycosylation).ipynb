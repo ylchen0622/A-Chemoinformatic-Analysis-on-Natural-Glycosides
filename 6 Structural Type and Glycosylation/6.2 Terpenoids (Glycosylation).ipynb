{
 "cells": [
  {
   "cell_type": "markdown",
   "metadata": {},
   "source": [
    "## Glycosylation ratio of the terpenoid subclass"
   ]
  },
  {
   "cell_type": "code",
   "execution_count": null,
   "metadata": {},
   "outputs": [],
   "source": [
    "from rdkit import Chem\n",
    "import numpy as np\n",
    "import pandas as pd"
   ]
  },
  {
   "cell_type": "markdown",
   "metadata": {},
   "source": [
    "### 1. The glycosylation ratio of terpenoids in DNP"
   ]
  },
  {
   "cell_type": "code",
   "execution_count": null,
   "metadata": {},
   "outputs": [],
   "source": [
    "df=pd.read_csv('Structure_Codes.csv')\n",
    "df=df[(df['codes'].str.contains('VA')|df['codes'].str.contains('VC')|df['codes'].str.contains('VE')|df['codes'].str.contains('VF')|df['codes'].str.contains('VG')\n",
    "  |df['codes'].str.contains('VH')|df['codes'].str.contains('VI')|df['codes'].str.contains('VK')|df['codes'].str.contains('VM')|df['codes'].str.contains('VO')\n",
    "  |df['codes'].str.contains('VQ')|df['codes'].str.contains('VS')|df['codes'].str.contains('VT')|df['codes'].str.contains('VV')|df['codes'].str.contains('VX')\n",
    "  |df['codes'].str.contains('VY')|df['codes'].str.contains('VZ'))]\n",
    "df_terpenoids=df[df['codes'].str.contains('VS')]\n",
    "df_terpenoids.reset_index(drop=True,inplace=True)\n",
    "len(df_terpenoids[df_terpenoids['hadOrHasSugars']==True])/len(df_terpenoids)"
   ]
  },
  {
   "cell_type": "markdown",
   "metadata": {},
   "source": [
    "### 2. The glycosylation ratio of each subclass of terpenoids"
   ]
  },
  {
   "cell_type": "markdown",
   "metadata": {},
   "source": [
    "### 2.1 The CRCNumber of terpenoids"
   ]
  },
  {
   "cell_type": "code",
   "execution_count": null,
   "metadata": {},
   "outputs": [],
   "source": [
    "VS_class_all = []\n",
    "VS_class_all_count = []\n",
    "for k in range(len(df_terpenoids)):\n",
    "    VS_class = df_terpenoids['codes'][k]\n",
    "    VS_class = VS_class.split(', ')\n",
    "    VS_class_list = []\n",
    "    for i in range(len(VS_class)):\n",
    "        if VS_class[i][0:2] == 'VS':\n",
    "            VS_class_list.append(VS_class[i])\n",
    "    VS_class_all.append(VS_class_list)\n",
    "    VS_class_all_count.append(len(VS_class_list))\n",
    "df_terpenoids['class_code'] = VS_class_all\n",
    "df_terpenoids['count'] = VS_class_all_count\n",
    "df_terpenoids"
   ]
  },
  {
   "cell_type": "markdown",
   "metadata": {},
   "source": [
    "### 2.2 Classification of terpenoids based on the annotation files of DNP"
   ]
  },
  {
   "cell_type": "code",
   "execution_count": null,
   "metadata": {},
   "outputs": [],
   "source": [
    "VS_name_all = []\n",
    "for k in range(len(df_terpenoids)):\n",
    "    VS_class = df_terpenoids['class_code'][k]\n",
    "    VS_name = []\n",
    "    for i in VS_class:\n",
    "        a = int(i[2:])\n",
    "        if a == 50:\n",
    "            VS_name.append('Hemiterpenoids')\n",
    "        elif a >= 100 and a <= 1200:\n",
    "            VS_name.append('Monoterpenoids')\n",
    "        elif a >= 1300 and a <= 5320:\n",
    "            VS_name.append('Sesquiterpenoids')    \n",
    "        elif a >= 5350 and a <= 7350:\n",
    "            VS_name.append('Diterpenoids')\n",
    "        elif a >= 7400 and a <= 7580:\n",
    "            VS_name.append('Sesterterpenoids')\n",
    "        elif a >= 7600 and a <= 9350:\n",
    "            VS_name.append('Triterpenoids')\n",
    "        elif a == 9400:\n",
    "            VS_name.append('Tetraterpenoids')\n",
    "        else:\n",
    "            VS_name.append('Others')\n",
    "    VS_name_all.append(VS_name)\n",
    "df_terpenoids['Classify'] = VS_name_all\n",
    "df1=df_terpenoids.drop(columns = ['class_code','count'])\n",
    "for i in range(len(df1)):\n",
    "    df1['Classify'][i]=' '.join(df1['Classify'][i])\n",
    "df1.to_csv('DNP_Terpenoids.csv',index=False)\n",
    "df1"
   ]
  },
  {
   "cell_type": "markdown",
   "metadata": {},
   "source": [
    "### 2.3 Calculate the glycosylation ratio"
   ]
  },
  {
   "cell_type": "code",
   "execution_count": null,
   "metadata": {},
   "outputs": [],
   "source": [
    "classify=['Hemiterpenoids','Monoterpenoids','Sesquiterpenoids','Diterpenoids','Sesterterpenoids','Triterpenoids','Tetraterpenoids','Others']\n",
    "data=[]\n",
    "for i in classify:\n",
    "    df_classify=df1[df1['Classify'].str.contains(i)]\n",
    "    df_classify_hassugar=df1[(df1['Classify'].str.contains(i))&(df1['hadOrHasSugars']==True)]\n",
    "    glycosylation_ratio=round(len(df_classify_hassugar)/len(df_classify)*100,2)\n",
    "    data.append((i,len(df_classify),len(df_classify_hassugar),glycosylation_ratio))\n",
    "data=pd.DataFrame(data,columns=['Category','All','Sugar','Percentages(%)'])\n",
    "data"
   ]
  }
 ],
 "metadata": {
  "kernelspec": {
   "display_name": "Python 3",
   "language": "python",
   "name": "python3"
  },
  "language_info": {
   "codemirror_mode": {
    "name": "ipython",
    "version": 3
   },
   "file_extension": ".py",
   "mimetype": "text/x-python",
   "name": "python",
   "nbconvert_exporter": "python",
   "pygments_lexer": "ipython3",
   "version": "3.7.0"
  }
 },
 "nbformat": 4,
 "nbformat_minor": 2
}
