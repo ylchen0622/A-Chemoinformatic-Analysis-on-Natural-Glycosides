{
 "cells": [
  {
   "cell_type": "markdown",
   "metadata": {},
   "source": [
    "## The glycosidic bond types of natural glycosides"
   ]
  },
  {
   "cell_type": "code",
   "execution_count": null,
   "metadata": {},
   "outputs": [],
   "source": [
    "from rdkit.Chem import Recap\n",
    "from rdkit.Chem.Draw import IPythonConsole\n",
    "from rdkit import rdBase, Chem\n",
    "from rdkit.Chem import AllChem, Draw\n",
    "from rdkit.Chem import Recap\n",
    "from rdkit.Chem import BRICS\n",
    "import pandas as pd\n",
    "from rdkit.Chem import PandasTools\n",
    "import re\n",
    "from rdkit.Chem import rdRGroupDecomposition as rdRGD \n",
    "from rdkit import Chem\n",
    "from rdkit.Chem.Draw import MolsToGridImage\n",
    "from rdkit.Chem import Draw, Descriptors"
   ]
  },
  {
   "cell_type": "code",
   "execution_count": null,
   "metadata": {},
   "outputs": [],
   "source": [
    "df=pd.read_csv('../../3 Removing Sugar/3.1 Removing All Sugar/deglycosylation_results.csv')\n",
    "df=df[df['hadOrHasSugars']==True]\n",
    "df.reset_index(drop=True,inplace=True)\n",
    "df[\"O-\"] = ''\n",
    "df[\"C-\"] = ''\n",
    "df[\"S-\"] = ''\n",
    "df[\"N-\"] = ''\n",
    "smileList = df.originalMoleculeSMILES.values"
   ]
  },
  {
   "cell_type": "markdown",
   "metadata": {},
   "source": [
    "### 1. Recognition of glycosidic bonds"
   ]
  },
  {
   "cell_type": "markdown",
   "metadata": {},
   "source": [
    "### 1.1 O-Glycosidic Bonds"
   ]
  },
  {
   "cell_type": "code",
   "execution_count": null,
   "metadata": {},
   "outputs": [],
   "source": [
    "for i in range(len(smileList)):\n",
    "    a = Chem.MolFromSmiles(smileList[i])\n",
    "    b_6=Chem.MolFromSmarts('[!$([OR]);$([OX2]([$(C1([O])C([O])C([O])CCO1),$(C1([O])C([O])CCOC([O])1),$(C1([O])CCOC([O])C([O])1),$(C1COC([O])C([O])C([O])1),$(C1OC([O])C([O])C([O])C1),$(C1([O])C([O])CC([O])CO1),$(C1([O])CC([O])COC([O])1),$(C1C([O])COC([O])C([O])1),$(C1([O])COC([O])C([O])C1),$(C1OC([O])C([O])CC([O])1),$(C1([O])C([O])CCC([O])O1),$(C1([O])CCC([O])OC([O])1),$(C1CC([O])OC([O])C([O])1),$(C1C([O])OC([O])C([O])C1),$(C1([O])OC([O])C([O])CC1),$(C1([O])CC([O])C([O])CO1),$(C1C([O])C([O])COC([O])1),$(C1([O])C([O])COC([O])C1),$(C1([O])COC([O])CC([O])1),$(C1OC([O])CC([O])C([O])1),$(C1([O])CC([O])CC([O])O1),$(C1C([O])CC([O])OC([O])1),$(C1([O])CC([O])OC([O])C1),$(C1C([O])OC([O])CC([O])1),$(C1([O])OC([O])CC([O])C1),$(C1C([O])C([O])C([O])CO1),$(C1([O])C([O])C([O])COC1),$(C1([O])C([O])COCC([O])1),$(C1([O])COCC([O])C([O])1),$(C1OCC([O])C([O])C([O])1),$(C1([O])C([O])CCO1),$(C1([O])CCOC([O])1),$(C1COC([O])C([O])1),$(C1OC([O])C([O])C1),$(C1([O])CC([O])CO1),$(C1C([O])COC([O])1),$(C1([O])COC([O])C1),$(C1OC([O])CC([O])1),$(C1([O])CCC([O])O1),$(C1CC([O])OC([O])1),$(C1C([O])OC([O])C1),$(C1([O])OC([O])CC1),$(C1C([O])C([O])CO1),$(C1([O])C([O])COC1),$(C1([O])COCC([O])1),$(C1OCC([O])C([O])1)])[!$([CH3]);!$([CX3](*)=[OX1]);!$(CC1OCCCC1);!$(C1([O])C([O])C([O])CCO1);!$(C1([O])C([O])CCOC([O])1);!$(C1([O])CCOC([O])C([O])1);!$(C1COC([O])C([O])C([O])1);!$(C1OC([O])C([O])C([O])C1);!$(C1([O])C([O])CC([O])CO1);!$(C1([O])CC([O])COC([O])1);!$(C1C([O])COC([O])C([O])1);!$(C1([O])COC([O])C([O])C1);!$(C1OC([O])C([O])CC([O])1);!$(C1([O])C([O])CCC([O])O1);!$(C1([O])CCC([O])OC([O])1);!$(C1CC([O])OC([O])C([O])1);!$(C1C([O])OC([O])C([O])C1);!$(C1([O])OC([O])C([O])CC1);!$(C1([O])CC([O])C([O])CO1);!$(C1C([O])C([O])COC([O])1);!$(C1([O])C([O])COC([O])C1);!$(C1([O])COC([O])CC([O])1);!$(C1OC([O])CC([O])C([O])1);!$(C1([O])CC([O])CC([O])O1);!$(C1C([O])CC([O])OC([O])1);!$(C1([O])CC([O])OC([O])C1);!$(C1C([O])OC([O])CC([O])1);!$(C1([O])OC([O])CC([O])C1);!$(C1C([O])C([O])C([O])CO1);!$(C1([O])C([O])C([O])COC1);!$(C1([O])C([O])COCC([O])1);!$(C1([O])COCC([O])C([O])1);!$(C1OCC([O])C([O])C([O])1);!$(C1([O])C([O])CCO1);!$(C1([O])CCOC([O])1);!$(C1COC([O])C([O])1);!$(C1OC([O])C([O])C1);!$(C1([O])CC([O])CO1);!$(C1C([O])COC([O])1);!$(C1([O])COC([O])C1);!$(C1OC([O])CC([O])1);!$(C1([O])CCC([O])O1);!$(C1CC([O])OC([O])1);!$(C1C([O])OC([O])C1);!$(C1([O])OC([O])CC1);!$(C1C([O])C([O])CO1);!$(C1([O])C([O])COC1);!$(C1([O])COCC([O])1);!$(C1OCC([O])C([O])1)])]')\n",
    "    submols_6 = a.GetSubstructMatches(b_6)\n",
    "    if len(submols_6) >= 1:\n",
    "        df[\"O-\"][i] = len(submols_6)\n",
    "    else:\n",
    "        df[\"O-\"][i] = 0\n",
    "df[df['O-']!=0]"
   ]
  },
  {
   "cell_type": "markdown",
   "metadata": {},
   "source": [
    "### 1.2 C-Glycosidic Bonds"
   ]
  },
  {
   "cell_type": "code",
   "execution_count": null,
   "metadata": {},
   "outputs": [],
   "source": [
    "for i in range(len(smileList)):\n",
    "    a = Chem.MolFromSmiles(smileList[i])\n",
    "    b_6=Chem.MolFromSmarts('[!$([CH3]);!$([CD2]([OH]));!$(C(=O)([OH]));!$(C1COCCC1);!$(C1OCCCC1);!$(C1CCOCC1);!$(C1COCC1);!$(C1OCCC1);$([CX4]([$(C1([O])C([O])C([O])CCO1),$(C1([O])C([O])CCOC([O])1),$(C1([O])CCOC([O])C([O])1),$(C1COC([O])C([O])C([O])1),$(C1OC([O])C([O])C([O])C1),$(C1([O])C([O])CC([O])CO1),$(C1([O])CC([O])COC([O])1),$(C1C([O])COC([O])C([O])1),$(C1([O])COC([O])C([O])C1),$(C1OC([O])C([O])CC([O])1),$(C1([O])C([O])CCC([O])O1),$(C1([O])CCC([O])OC([O])1),$(C1CC([O])OC([O])C([O])1),$(C1C([O])OC([O])C([O])C1),$(C1([O])OC([O])C([O])CC1),$(C1([O])CC([O])C([O])CO1),$(C1C([O])C([O])COC([O])1),$(C1([O])C([O])COC([O])C1),$(C1([O])COC([O])CC([O])1),$(C1OC([O])CC([O])C([O])1),$(C1([O])CC([O])CC([O])O1),$(C1C([O])CC([O])OC([O])1),$(C1([O])CC([O])OC([O])C1),$(C1C([O])OC([O])CC([O])1),$(C1([O])OC([O])CC([O])C1),$(C1C([O])C([O])C([O])CO1),$(C1([O])C([O])C([O])COC1),$(C1([O])C([O])COCC([O])1),$(C1([O])COCC([O])C([O])1),$(C1OCC([O])C([O])C([O])1),$(C1([O])C([O])CCO1),$(C1([O])CCOC([O])1),$(C1COC([O])C([O])1),$(C1OC([O])C([O])C1),$(C1([O])CC([O])CO1),$(C1C([O])COC([O])1),$(C1([O])COC([O])C1),$(C1OC([O])CC([O])1),$(C1([O])CCC([O])O1),$(C1CC([O])OC([O])1),$(C1C([O])OC([O])C1),$(C1([O])OC([O])CC1),$(C1C([O])C([O])CO1),$(C1([O])C([O])COC1),$(C1([O])COCC([O])1),$(C1OCC([O])C([O])1)])[!$([CH4]);!$([CX3](*)=[OX1]);!$(C1([O])C([O])C([O])CCO1);!$(C1([O])C([O])CCOC([O])1);!$(C1([O])CCOC([O])C([O])1);!$(C1COC([O])C([O])C([O])1);!$(C1OC([O])C([O])C([O])C1);!$(C1([O])C([O])CC([O])CO1);!$(C1([O])CC([O])COC([O])1);!$(C1C([O])COC([O])C([O])1);!$(C1([O])COC([O])C([O])C1);!$(C1OC([O])C([O])CC([O])1);!$(C1([O])C([O])CCC([O])O1);!$(C1([O])CCC([O])OC([O])1);!$(C1CC([O])OC([O])C([O])1);!$(C1C([O])OC([O])C([O])C1);!$(C1([O])OC([O])C([O])CC1);!$(C1([O])CC([O])C([O])CO1);!$(C1C([O])C([O])COC([O])1);!$(C1([O])C([O])COC([O])C1);!$(C1([O])COC([O])CC([O])1);!$(C1OC([O])CC([O])C([O])1);!$(C1([O])CC([O])CC([O])O1);!$(C1C([O])CC([O])OC([O])1);!$(C1([O])CC([O])OC([O])C1);!$(C1C([O])OC([O])CC([O])1);!$(C1([O])OC([O])CC([O])C1);!$(C1C([O])C([O])C([O])CO1);!$(C1([O])C([O])C([O])COC1);!$(C1([O])C([O])COCC([O])1);!$(C1([O])COCC([O])C([O])1);!$(C1OCC([O])C([O])C([O])1);!$(C1([O])C([O])CCO1);!$(C1([O])CCOC([O])1);!$(C1COC([O])C([O])1);!$(C1OC([O])C([O])C1);!$(C1([O])CC([O])CO1);!$(C1C([O])COC([O])1);!$(C1([O])COC([O])C1);!$(C1OC([O])CC([O])1);!$(C1([O])CCC([O])O1);!$(C1CC([O])OC([O])1);!$(C1C([O])OC([O])C1);!$(C1([O])OC([O])CC1);!$(C1C([O])C([O])CO1);!$(C1([O])C([O])COC1);!$(C1([O])COCC([O])1);!$(C1OCC([O])C([O])1)])]')\n",
    "    submols_6 = a.GetSubstructMatches(b_6)\n",
    "    if len(submols_6) >= 1:\n",
    "        df[\"C-\"][i] = len(submols_6)\n",
    "    else:\n",
    "        df[\"C-\"][i] = 0\n",
    "df[df['C-']!=0]"
   ]
  },
  {
   "cell_type": "markdown",
   "metadata": {},
   "source": [
    "### 1.3 N-Glycosidic Bonds"
   ]
  },
  {
   "cell_type": "code",
   "execution_count": null,
   "metadata": {},
   "outputs": [],
   "source": [
    "for i in range(len(smileList)):\n",
    "    a = Chem.MolFromSmiles(smileList[i])\n",
    "    b_6 = Chem.MolFromSmarts('[$([$([#7][R]),$([#7])][$(C1([O])C([O])C([O])CCO1),$(C1([O])C([O])CCOC([O])1),$(C1([O])CCOC([O])C([O])1),$(C1COC([O])C([O])C([O])1),$(C1OC([O])C([O])C([O])C1),$(C1([O])C([O])CC([O])CO1),$(C1([O])CC([O])COC([O])1),$(C1C([O])COC([O])C([O])1),$(C1([O])COC([O])C([O])C1),$(C1OC([O])C([O])CC([O])1),$(C1([O])C([O])CCC([O])O1),$(C1([O])CCC([O])OC([O])1),$(C1CC([O])OC([O])C([O])1),$(C1C([O])OC([O])C([O])C1),$(C1([O])OC([O])C([O])CC1),$(C1([O])CC([O])C([O])CO1),$(C1C([O])C([O])COC([O])1),$(C1([O])C([O])COC([O])C1),$(C1([O])COC([O])CC([O])1),$(C1OC([O])CC([O])C([O])1),$(C1([O])CC([O])CC([O])O1),$(C1C([O])CC([O])OC([O])1),$(C1([O])CC([O])OC([O])C1),$(C1C([O])OC([O])CC([O])1),$(C1([O])OC([O])CC([O])C1),$(C1C([O])C([O])C([O])CO1),$(C1([O])C([O])C([O])COC1),$(C1([O])C([O])COCC([O])1),$(C1([O])COCC([O])C([O])1),$(C1OCC([O])C([O])C([O])1),$(C1([O])C([O])CCO1),$(C1([O])CCOC([O])1),$(C1COC([O])C([O])1),$(C1OC([O])C([O])C1),$(C1([O])CC([O])CO1),$(C1C([O])COC([O])1),$(C1([O])COC([O])C1),$(C1OC([O])CC([O])1),$(C1([O])CCC([O])O1),$(C1CC([O])OC([O])1),$(C1C([O])OC([O])C1),$(C1([O])OC([O])CC1),$(C1C([O])C([O])CO1),$(C1([O])C([O])COC1),$(C1([O])COCC([O])1),$(C1OCC([O])C([O])1)])]')\n",
    "    submols_6 = a.GetSubstructMatches(b_6)\n",
    "    if len(submols_6) >= 1:\n",
    "        df[\"N-\"][i] = len(submols_6)\n",
    "    else:\n",
    "        df[\"N-\"][i] = 0\n",
    "df[df['N-']!=0]"
   ]
  },
  {
   "cell_type": "markdown",
   "metadata": {},
   "source": [
    "### 1.4 S-Glycosidic Bonds"
   ]
  },
  {
   "cell_type": "code",
   "execution_count": null,
   "metadata": {},
   "outputs": [],
   "source": [
    "for i in range(len(smileList)):\n",
    "    a = Chem.MolFromSmiles(smileList[i])\n",
    "    b_6 = Chem.MolFromSmarts('[$([$([S][R]),$([S])][$(C1([O])C([O])C([O])CCO1),$(C1([O])C([O])CCOC([O])1),$(C1([O])CCOC([O])C([O])1),$(C1COC([O])C([O])C([O])1),$(C1OC([O])C([O])C([O])C1),$(C1([O])C([O])CC([O])CO1),$(C1([O])CC([O])COC([O])1),$(C1C([O])COC([O])C([O])1),$(C1([O])COC([O])C([O])C1),$(C1OC([O])C([O])CC([O])1),$(C1([O])C([O])CCC([O])O1),$(C1([O])CCC([O])OC([O])1),$(C1CC([O])OC([O])C([O])1),$(C1C([O])OC([O])C([O])C1),$(C1([O])OC([O])C([O])CC1),$(C1([O])CC([O])C([O])CO1),$(C1C([O])C([O])COC([O])1),$(C1([O])C([O])COC([O])C1),$(C1([O])COC([O])CC([O])1),$(C1OC([O])CC([O])C([O])1),$(C1([O])CC([O])CC([O])O1),$(C1C([O])CC([O])OC([O])1),$(C1([O])CC([O])OC([O])C1),$(C1C([O])OC([O])CC([O])1),$(C1([O])OC([O])CC([O])C1),$(C1C([O])C([O])C([O])CO1),$(C1([O])C([O])C([O])COC1),$(C1([O])C([O])COCC([O])1),$(C1([O])COCC([O])C([O])1),$(C1OCC([O])C([O])C([O])1),$(C1([O])C([O])CCO1),$(C1([O])CCOC([O])1),$(C1COC([O])C([O])1),$(C1OC([O])C([O])C1),$(C1([O])CC([O])CO1),$(C1C([O])COC([O])1),$(C1([O])COC([O])C1),$(C1OC([O])CC([O])1),$(C1([O])CCC([O])O1),$(C1CC([O])OC([O])1),$(C1C([O])OC([O])C1),$(C1([O])OC([O])CC1),$(C1C([O])C([O])CO1),$(C1([O])C([O])COC1),$(C1([O])COCC([O])1),$(C1OCC([O])C([O])1)])]')\n",
    "    submols_6 = a.GetSubstructMatches(b_6)\n",
    "    if len(submols_6) >= 1:\n",
    "        df[\"S-\"][i] = len(submols_6)\n",
    "    else:\n",
    "        df[\"S-\"][i] = 0\n",
    "df.to_csv('CNOS.csv',index=False)\n",
    "df[df['S-']!=0]"
   ]
  },
  {
   "cell_type": "markdown",
   "metadata": {},
   "source": [
    "### 2. The distribution of glycosidic bonds from different biological sources (APBF)"
   ]
  },
  {
   "cell_type": "markdown",
   "metadata": {},
   "source": [
    "### 2.1 Add biological source information for natural glycosides based on annotation files of DNP"
   ]
  },
  {
   "cell_type": "code",
   "execution_count": null,
   "metadata": {},
   "outputs": [],
   "source": [
    "ambf_df = pd.read_table('301_NP_from_all.txt',low_memory=False)\n",
    "df.rename(columns={'ID':'CRCNumber'},inplace=True)\n",
    "def delete_two_char(x):\n",
    "    CRCNumber = x[:-2]\n",
    "    return CRCNumber\n",
    "df[\"CRCNumber\"] = df[\"CRCNumber\"].map(delete_two_char)\n",
    "df['Animal'] = ''\n",
    "df['Plant'] = ''\n",
    "df['Bacteria'] = ''\n",
    "df['Fungi'] = ''\n",
    "#301_NP_from_Animals\n",
    "df_A = ambf_df[(ambf_df['KingdomCode[1]'] == 'A') | (ambf_df['KingdomCode[2]'] == 'A')| (ambf_df['KingdomCode[3]'] == 'A')| (ambf_df['KingdomCode[4]'] == 'A')]\n",
    "index_A = df[df.CRCNumber.isin(df_A.CRCNumber)].index\n",
    "for i in index_A:\n",
    "    df['Animal'][i] = 1\n",
    "\n",
    "#301_NP_from_Plants\n",
    "df_P = ambf_df[(ambf_df['KingdomCode[1]'] == 'P') | (ambf_df['KingdomCode[2]'] == 'P')| (ambf_df['KingdomCode[3]'] == 'P')| (ambf_df['KingdomCode[4]'] == 'P')]\n",
    "index_P = df[df.CRCNumber.isin(df_P.CRCNumber)].index\n",
    "for i in index_P:\n",
    "    df['Plant'][i] = 1\n",
    "\n",
    "#301_NP_from_Bacteria\n",
    "df_B = ambf_df[(ambf_df['KingdomCode[1]'] == 'B') | (ambf_df['KingdomCode[2]'] == 'B')| (ambf_df['KingdomCode[3]'] == 'B')| (ambf_df['KingdomCode[4]'] == 'B')]\n",
    "index_B = df[df.CRCNumber.isin(df_B.CRCNumber)].index\n",
    "for i in index_B:\n",
    "    df['Bacteria'][i] = 1\n",
    "\n",
    "#301_NP_from_Fungi\n",
    "df_F = ambf_df[(ambf_df['KingdomCode[1]'] == 'F') | (ambf_df['KingdomCode[2]'] == 'F')| (ambf_df['KingdomCode[3]'] == 'F')| (ambf_df['KingdomCode[4]'] == 'F')]\n",
    "index_F = df[df.CRCNumber.isin(df_F.CRCNumber)].index\n",
    "for i in index_F:\n",
    "    df['Fungi'][i] = 1\n",
    "df"
   ]
  },
  {
   "cell_type": "markdown",
   "metadata": {},
   "source": [
    "### 2.2 The distribution of glycosidic bonds"
   ]
  },
  {
   "cell_type": "code",
   "execution_count": null,
   "metadata": {},
   "outputs": [],
   "source": [
    "df_species=df[(df['Animal']==1)|(df['Plant']==1)|(df['Bacteria']==1)|(df['Fungi']==1)]\n",
    "Species=['Animal','Plant','Bacteria','Fungi']\n",
    "Glycoside_Bonds=['O-','C-','S-','N-']\n",
    "data=[]\n",
    "for i in Species:\n",
    "    for j in Glycoside_Bonds:\n",
    "        compound=df_species[(df_species[i]==1)&(df_species[j]!=0)]\n",
    "        counts=len(compound)\n",
    "        data.append((i,j,counts))\n",
    "data=pd.DataFrame(data,columns=['Species','Glycoside Bonds','Counts'])\n",
    "data"
   ]
  }
 ],
 "metadata": {
  "kernelspec": {
   "display_name": "Python 3",
   "language": "python",
   "name": "python3"
  },
  "language_info": {
   "codemirror_mode": {
    "name": "ipython",
    "version": 3
   },
   "file_extension": ".py",
   "mimetype": "text/x-python",
   "name": "python",
   "nbconvert_exporter": "python",
   "pygments_lexer": "ipython3",
   "version": "3.7.0"
  }
 },
 "nbformat": 4,
 "nbformat_minor": 2
}
