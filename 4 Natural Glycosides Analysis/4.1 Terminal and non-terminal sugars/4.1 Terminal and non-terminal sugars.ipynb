{
 "cells": [
  {
   "cell_type": "markdown",
   "metadata": {},
   "source": [
    "## Statistics of terminal and non-terminal sugars"
   ]
  },
  {
   "cell_type": "code",
   "execution_count": null,
   "metadata": {},
   "outputs": [],
   "source": [
    "import pandas as pd"
   ]
  },
  {
   "cell_type": "markdown",
   "metadata": {},
   "source": [
    "###  ----------------------Removing only terminal sugars based on SRU-------------------------------"
   ]
  },
  {
   "cell_type": "markdown",
   "metadata": {},
   "source": [
    "### 1. The number of terminal sugars in natural products"
   ]
  },
  {
   "cell_type": "code",
   "execution_count": null,
   "metadata": {},
   "outputs": [],
   "source": [
    "df_terminal=pd.read_csv('../../3 Removing Sugar/3.2 Removing Terminal Sugars/HasSugar.csv')\n",
    "sugar_num_count=[]\n",
    "for i in range(len(df_terminal)):\n",
    "    sugar=str(df_terminal['SugarMoietySMILES'][i])\n",
    "    if(sugar!='[]'):\n",
    "        num=sugar.split(',')\n",
    "        sugar_num_count.append(len(num))\n",
    "    else:\n",
    "        sugar_num_count.append(0)\n",
    "df_terminal['sugar_num_count']=sugar_num_count\n",
    "df_terminal"
   ]
  },
  {
   "cell_type": "markdown",
   "metadata": {},
   "source": [
    "### 1.1 The number of natural glycosides containing only non-terminal sugars"
   ]
  },
  {
   "cell_type": "code",
   "execution_count": null,
   "metadata": {},
   "outputs": [],
   "source": [
    "df_No_TerminalSugar=df_terminal[df_terminal['sugar_num_count']==0]\n",
    "df_No_TerminalSugar.to_csv('Only_MiddleSugar.csv',index=False)\n",
    "df_No_TerminalSugar"
   ]
  },
  {
   "cell_type": "markdown",
   "metadata": {},
   "source": [
    "### 1.2 The number of natural glycosides containing terminal sugars"
   ]
  },
  {
   "cell_type": "code",
   "execution_count": null,
   "metadata": {},
   "outputs": [],
   "source": [
    "df_Has_TerminalSugar=df_terminal[df_terminal['sugar_num_count']!=0]\n",
    "df_Has_TerminalSugar.to_csv('Has_TerminalSugar.csv',index=False)\n",
    "df_Has_TerminalSugar"
   ]
  },
  {
   "cell_type": "markdown",
   "metadata": {},
   "source": [
    "### ---------------------Removing all sugars based on SRU------------------------------"
   ]
  },
  {
   "cell_type": "markdown",
   "metadata": {},
   "source": [
    "### 2. The number of sugars in natural products"
   ]
  },
  {
   "cell_type": "code",
   "execution_count": null,
   "metadata": {},
   "outputs": [],
   "source": [
    "df_all=pd.read_csv('../../3 Removing Sugar/3.1 Removing All Sugars/HasSugar.csv ')\n",
    "sugar_num_count=[]\n",
    "for i in range(len(df_all)):\n",
    "    sugar=str(df_all['SugarMoietySMILES'][i])\n",
    "    if(sugar!='[]'):\n",
    "        num=sugar.split(',')\n",
    "        sugar_num_count.append(len(num))\n",
    "    else:\n",
    "        sugar_num_count.append(0)\n",
    "df_all['sugar_num_count']=sugar_num_count\n",
    "df_all"
   ]
  },
  {
   "cell_type": "markdown",
   "metadata": {},
   "source": [
    "### 2.1 The number of natural glycosides containing non-terminal sugars"
   ]
  },
  {
   "cell_type": "code",
   "execution_count": null,
   "metadata": {},
   "outputs": [],
   "source": [
    "df_different=df_all[df_all['sugar_num_count']!=df_terminal['sugar_num_count']]\n",
    "df_different.to_csv('Has_MiddleSugar.csv',index=False)\n",
    "df_different"
   ]
  },
  {
   "cell_type": "markdown",
   "metadata": {},
   "source": [
    "### 2.2 The number of natural glycosides containing only terminal sugars"
   ]
  },
  {
   "cell_type": "code",
   "execution_count": null,
   "metadata": {},
   "outputs": [],
   "source": [
    "df_same=df_all[df_all['sugar_num_count']==df_terminal['sugar_num_count']]\n",
    "df_same.to_csv('Only_TerminalSugar.csv',index=False)\n",
    "df_same"
   ]
  }
 ],
 "metadata": {
  "kernelspec": {
   "display_name": "Python 3",
   "language": "python",
   "name": "python3"
  },
  "language_info": {
   "codemirror_mode": {
    "name": "ipython",
    "version": 3
   },
   "file_extension": ".py",
   "mimetype": "text/x-python",
   "name": "python",
   "nbconvert_exporter": "python",
   "pygments_lexer": "ipython3",
   "version": "3.7.0"
  }
 },
 "nbformat": 4,
 "nbformat_minor": 2
}
