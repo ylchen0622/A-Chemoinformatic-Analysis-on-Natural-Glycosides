{
 "cells": [
  {
   "cell_type": "markdown",
   "metadata": {},
   "source": [
    "### Statistics of circular sugars and linear sugars"
   ]
  },
  {
   "cell_type": "code",
   "execution_count": null,
   "metadata": {},
   "outputs": [],
   "source": [
    "import pandas as pd\n",
    "from rdkit import Chem\n",
    "import numpy as np\n",
    "\n",
    "# Statistics of the number of sugars in each compounds\n",
    "df_sugar=pd.read_csv('../../3 Removal Sugar/3.1 Removal All Sugar/HasSugar.csv')\n",
    "sugar_num_count=[]\n",
    "for i in range(len(df_sugar)):\n",
    "    sugar=str(df_sugar['SugarMoietySMILES'][i])\n",
    "    if(sugar!='[]'):\n",
    "        num=sugar.split(',')\n",
    "        sugar_num_count.append(len(num))\n",
    "    else:\n",
    "        sugar_num_count.append(0)\n",
    "df_sugar['sugar_num_count']=sugar_num_count\n",
    "\n",
    "# Statistics of the number of furanose, pyranose, heptose and linear sugar in each compounds\n",
    "rings_5_list = []\n",
    "rings_6_list = []\n",
    "rings_7_list = []\n",
    "line_list = [] \n",
    "for i in range(len(df_sugar)):\n",
    "    sugar_all=df_sugar['SugarMoietySMILES'][i][1:-1].split(', ')\n",
    "    rings_5 = 0\n",
    "    rings_6 = 0\n",
    "    rings_7 = 0\n",
    "    line = 0\n",
    "    for j in sugar_all:\n",
    "        sugar=j[1:-1]\n",
    "        mol=Chem.MolFromSmiles(sugar)\n",
    "        if mol.GetAtomWithIdx(0).IsInRing():            \n",
    "            if mol.GetAtomWithIdx(0).IsInRingSize(5):\n",
    "                rings_5 = rings_5 + 1\n",
    "            elif mol.GetAtomWithIdx(0).IsInRingSize(6):\n",
    "                rings_6 = rings_6 + 1\n",
    "            elif mol.GetAtomWithIdx(0).IsInRingSize(7):\n",
    "                rings_7 = rings_7 + 1\n",
    "        else:\n",
    "            line = line + 1\n",
    "    rings_5_list.append(rings_5)\n",
    "    rings_6_list.append(rings_6)\n",
    "    rings_7_list.append(rings_7)\n",
    "    line_list.append(line)\n",
    "df_sugar['rings_5'] = rings_5_list\n",
    "df_sugar['rings_6'] = rings_6_list\n",
    "df_sugar['rings_7'] = rings_7_list\n",
    "df_sugar['line'] = line_list\n",
    "df_sugar.to_csv('Sugar_Type.csv',index=False)\n",
    "\n",
    "# ① Statistics of the number of sugars\n",
    "sugar_num=df_sugar['sugar_num_count'].value_counts()\n",
    "sugar_num=pd.DataFrame(sugar_num)\n",
    "# ② Statistics of the number of furanose、pyranose, heptose and linear sugar\n",
    "df_sugar['rings_5'].value_counts()\n",
    "df_sugar['rings_6'].value_counts()\n",
    "df_sugar['rings_7'].value_counts()\n",
    "df_sugar['line'].value_counts()\n",
    "# ③ Statistics of the number of circular sugars and linear sugars\n",
    "df=pd.read_csv('Sugar_Type.csv')\n",
    "Circle_Sugar=[]\n",
    "for i in range(len(df)):\n",
    "    circle_sugar=df['rings_5'][i]+df['rings_6'][i]+df['rings_7'][i]\n",
    "    Circle_Sugar.append(circle_sugar)\n",
    "df['Circle']=Circle_Sugar\n",
    "df['Circle'].value_counts()\n",
    "df['line'].value_counts()"
   ]
  }
 ],
 "metadata": {
  "kernelspec": {
   "display_name": "Python 3",
   "language": "python",
   "name": "python3"
  },
  "language_info": {
   "codemirror_mode": {
    "name": "ipython",
    "version": 3
   },
   "file_extension": ".py",
   "mimetype": "text/x-python",
   "name": "python",
   "nbconvert_exporter": "python",
   "pygments_lexer": "ipython3",
   "version": "3.7.0"
  }
 },
 "nbformat": 4,
 "nbformat_minor": 2
}
