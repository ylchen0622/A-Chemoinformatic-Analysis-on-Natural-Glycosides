{
 "cells": [
  {
   "cell_type": "markdown",
   "metadata": {},
   "source": [
    "### Glycoside types (monosaccharides, oligosaccharide)"
   ]
  },
  {
   "cell_type": "code",
   "execution_count": null,
   "metadata": {},
   "outputs": [],
   "source": [
    "import pandas as pd\n",
    "from rdkit import rdBase, Chem\n",
    "from rdkit.Chem import AllChem\n",
    "from rdkit import Chem\n",
    "import numpy as np\n",
    "df=pd.read_csv('../7.3 Sugar Type/Sugar_Type.csv')\n",
    "\n",
    "# Defines the function for obtaining the largest molecular fragment\n",
    "def Largetst_Smiles(smiles):\n",
    "    mol = Chem.MolFromSmiles(smiles)\n",
    "    mol_frags = Chem.rdmolops.GetMolFrags(mol, asMols = True)\n",
    "    largest_mol = max(mol_frags, default=mol, key=lambda m: m.GetNumAtoms())\n",
    "    largest_smiles = Chem.MolToSmiles(largest_mol)\n",
    "    return largest_smiles\n",
    "\n",
    "# Define the function of the step by step removal of the largest molecular fragment of glycosides\n",
    "def Delete_Aglycones(ori_smiles,deg_smiles):\n",
    "    ori_mol=Chem.MolFromSmiles(ori_smiles)\n",
    "    deg_mol=Chem.MolFromSmiles(deg_smiles)\n",
    "    deg_smiles_split=deg_smiles.split('.')\n",
    "    tmp=ori_mol\n",
    "    for i in range(len(deg_smiles_split)):\n",
    "        largest_smiles = Largetst_Smiles(deg_smiles)\n",
    "        patt=Chem.MolFromSmiles(largest_smiles)\n",
    "        tmp = Chem.ReplaceCore(tmp,patt)\n",
    "        deg_smiles_split.remove(largest_smiles)\n",
    "        deg_smiles='.'.join(deg_smiles_split)\n",
    "    tmp_smiles=Chem.MolToSmiles(tmp)\n",
    "    return tmp_smiles\n",
    "\n",
    "# Get the structure of the sugar\n",
    "Sugar_Smiles=[]\n",
    "Structure_Error_ID=[]\n",
    "for i in range(len(df)):\n",
    "    ori_smiles=df['originalMoleculeSMILES'][i]\n",
    "    degly_smiles=df['deglycosylatedMoleculeSMILES'][i]\n",
    "    if len(df['SugarMoietySMILES'][i].split(','))==1:\n",
    "        sugar_smiles=df['SugarMoietySMILES'][i][2:-2]\n",
    "    elif degly_smiles=='[empty]': \n",
    "        sugar_smiles=ori_smiles\n",
    "    else:\n",
    "        try:\n",
    "            sugar_smiles=Delete_Aglycones(ori_smiles,degly_smiles)\n",
    "        except:\n",
    "            sugar_smiles='error'\n",
    "            Structure_Error_ID.append(df['ID'][i])\n",
    "    Sugar_Smiles.append(sugar_smiles)\n",
    "df['sugar_smiles']=Sugar_Smiles\n",
    "df.to_csv('Sugar_Smiles.csv',index=False)\n",
    "\n",
    "# Get the number of sugars in each molecule\n",
    "Sugar_Ring_Num=[]\n",
    "for i in range(len(df)):\n",
    "    sugar_smiles=df['sugar_smiles'][i]\n",
    "    if sugar_smiles=='error':\n",
    "        sugar_ring_num='error'\n",
    "    else:\n",
    "        each_one=[]\n",
    "        sugar_smiles_split=sugar_smiles.split('.')\n",
    "        for j in sugar_smiles_split:\n",
    "            a = Chem.MolFromSmiles(j)\n",
    "            b = Chem.MolFromSmarts('[$([OR])]')\n",
    "            submols1 = a.GetSubstructMatches(b)\n",
    "            each_one.append(len(submols1))\n",
    "        sugar_ring_num=each_one\n",
    "    Sugar_Ring_Num.append(sugar_ring_num)\n",
    "df['sugar_ring_num']=Sugar_Ring_Num\n",
    "\n",
    "# Get the sugar type\n",
    "Sugar_Class=[]\n",
    "for i in range(len(df)):\n",
    "    sugar_ring_num=df['sugar_ring_num'][i]\n",
    "    if sugar_ring_num=='error':\n",
    "        sugar_class='error'\n",
    "    else:\n",
    "        sugar_class_list=[]\n",
    "        for j in sugar_ring_num:\n",
    "            if j==0:\n",
    "                sugar_class_list.append('mono')\n",
    "            elif j==1:\n",
    "                sugar_class_list.append('mono')\n",
    "            elif (j>=2 and j<=10):\n",
    "                sugar_class_list.append('oli')\n",
    "            else:\n",
    "                sugar_class_list.append('poly')\n",
    "        sugar_class=sugar_class_list\n",
    "    Sugar_Class.append(sugar_class)\n",
    "df['sugar_class']=Sugar_Class\n",
    "df.to_csv('Sugar_Class.csv',index=False)\n",
    "df"
   ]
  },
  {
   "cell_type": "markdown",
   "metadata": {},
   "source": [
    "### Confirm if the results are wrong"
   ]
  },
  {
   "cell_type": "code",
   "execution_count": null,
   "metadata": {},
   "outputs": [],
   "source": [
    "Results=[]\n",
    "for i in range(len(df)):\n",
    "    sugar_ring_num=df['sugar_ring_num'][i]\n",
    "    if sugar_ring_num=='error':\n",
    "        Results.append('error')\n",
    "    else: \n",
    "        num=0\n",
    "        for j in sugar_ring_num:\n",
    "            if j==0:\n",
    "                j=1\n",
    "            num=num+j\n",
    "        if df['sugar_num_count'][i]!=num:\n",
    "            Results.append('error')\n",
    "        else:\n",
    "            Results.append('right')\n",
    "df['Results']=Results\n",
    "df.to_csv('Glycosides_Sites.csv',index=False)\n",
    "df"
   ]
  },
  {
   "cell_type": "markdown",
   "metadata": {},
   "source": [
    "### Output wrong results and check manually"
   ]
  },
  {
   "cell_type": "code",
   "execution_count": null,
   "metadata": {},
   "outputs": [],
   "source": [
    "df_error=df[df['Results']=='error']\n",
    "df_error.to_csv('Error.csv',index=False)\n",
    "df_error.reset_index(drop=True,inplace=True)\n",
    "df_error"
   ]
  },
  {
   "cell_type": "markdown",
   "metadata": {},
   "source": [
    "### The style of sugar combinations (Finally)"
   ]
  },
  {
   "cell_type": "code",
   "execution_count": null,
   "metadata": {},
   "outputs": [],
   "source": [
    "df=pd.read_csv('Glycosides_Sites.csv')\n",
    "df_error_right=pd.read_csv('Error_Right.csv')\n",
    "data=[]\n",
    "for i in range(len(df)):\n",
    "    ID=df['ID'][i]\n",
    "    if df['Results'][i]=='error':\n",
    "        for j in range(len(df_error_right)):\n",
    "            if df_error_right['ID'][j]==ID:\n",
    "                sugar_class=df_error_right['sugar_class'][j]\n",
    "        df['sugar_class'][i]=sugar_class\n",
    "df.to_csv('Results.csv',index=False)\n",
    "df['sugar_class'].value_counts()"
   ]
  }
 ],
 "metadata": {
  "kernelspec": {
   "display_name": "Python 3",
   "language": "python",
   "name": "python3"
  },
  "language_info": {
   "codemirror_mode": {
    "name": "ipython",
    "version": 3
   },
   "file_extension": ".py",
   "mimetype": "text/x-python",
   "name": "python",
   "nbconvert_exporter": "python",
   "pygments_lexer": "ipython3",
   "version": "3.7.0"
  }
 },
 "nbformat": 4,
 "nbformat_minor": 2
}
