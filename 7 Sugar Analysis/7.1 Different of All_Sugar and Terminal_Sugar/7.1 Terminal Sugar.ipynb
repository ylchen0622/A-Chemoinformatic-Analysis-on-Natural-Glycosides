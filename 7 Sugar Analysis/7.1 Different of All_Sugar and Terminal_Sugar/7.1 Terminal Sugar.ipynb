{
 "cells": [
  {
   "cell_type": "markdown",
   "metadata": {},
   "source": [
    "### Statistics of terminal sugars and non-terminal sugars"
   ]
  },
  {
   "cell_type": "code",
   "execution_count": null,
   "metadata": {},
   "outputs": [],
   "source": [
    "import pandas as pd\n",
    "\n",
    "# ----------------------Remove terminal sugar based on SRU-------------------------------\n",
    "# Statistics of the number of terminal sugars in each compound\n",
    "df_terminal=pd.read_csv('../../3 Removal Sugar/3.2 Removal Terminal Sugar/HasSugar.csv')\n",
    "sugar_num_count=[]\n",
    "for i in range(len(df_terminal)):\n",
    "    sugar=str(df_terminal['SugarMoietySMILES'][i])\n",
    "    if(sugar!='[]'):\n",
    "        num=sugar.split(',')\n",
    "        sugar_num_count.append(len(num))\n",
    "    else:\n",
    "        sugar_num_count.append(0)\n",
    "df_terminal['sugar_num_count']=sugar_num_count\n",
    "\n",
    "# ① Compounds containing only non-terminal sugars\n",
    "df_No_TerminalSugar=df_terminal[df_terminal['sugar_num_count']==0]\n",
    "df_No_TerminalSugar.to_csv('Only_MiddleSugar.csv',index=False)\n",
    "\n",
    "# ② Compounds containing terminal sugars\n",
    "df_Has_TerminalSugar=df_terminal[df_terminal['sugar_num_count']!=0]\n",
    "df_Has_TerminalSugar.to_csv('Has_TerminalSugar.csv',index=False)\n",
    "\n",
    "# ---------------------Remove all sugar based on SRU------------------------------\n",
    "df_all=pd.read_csv('../../3 Removal Sugar/3.1 Removal All Sugar/HasSugar.csv ')\n",
    "sugar_num_count=[]\n",
    "for i in range(len(df_all)):\n",
    "    sugar=str(df_all['SugarMoietySMILES'][i])\n",
    "    if(sugar!='[]'):\n",
    "        num=sugar.split(',')\n",
    "        sugar_num_count.append(len(num))\n",
    "    else:\n",
    "        sugar_num_count.append(0)\n",
    "df_all['sugar_num_count']=sugar_num_count\n",
    "\n",
    "# ③ Compounds containing non-terminal sugars\n",
    "df_different=df_all[df_all['sugar_num_count']!=df_terminal['sugar_num_count']]\n",
    "df_different.to_csv('Has_MiddleSugar.csv',index=False)\n",
    "# ④ Compounds containing only terminal sugars\n",
    "df_same=df_all[df_all['sugar_num_count']==df_terminal['sugar_num_count']]\n",
    "df_same.to_csv('Only_TerminalSugar.csv',index=False)"
   ]
  }
 ],
 "metadata": {
  "kernelspec": {
   "display_name": "Python 3",
   "language": "python",
   "name": "python3"
  },
  "language_info": {
   "codemirror_mode": {
    "name": "ipython",
    "version": 3
   },
   "file_extension": ".py",
   "mimetype": "text/x-python",
   "name": "python",
   "nbconvert_exporter": "python",
   "pygments_lexer": "ipython3",
   "version": "3.7.0"
  }
 },
 "nbformat": 4,
 "nbformat_minor": 2
}
