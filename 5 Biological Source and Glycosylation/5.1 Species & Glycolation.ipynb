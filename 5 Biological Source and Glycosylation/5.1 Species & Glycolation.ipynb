{
 "cells": [
  {
   "cell_type": "code",
   "execution_count": null,
   "metadata": {},
   "outputs": [],
   "source": [
    "import pandas as pd"
   ]
  },
  {
   "cell_type": "markdown",
   "metadata": {},
   "source": [
    "## 1. Glycosylation ratio of natural products from different biological sources (APBF)"
   ]
  },
  {
   "cell_type": "markdown",
   "metadata": {},
   "source": [
    "### 1.1 Deglycosylated results of natural products with biological sources information (APBF)"
   ]
  },
  {
   "cell_type": "code",
   "execution_count": null,
   "metadata": {},
   "outputs": [],
   "source": [
    "df_species=pd.read_csv('../2 Biological Source and Structural Type/2.2 Species Distribution/HasSpecies.csv',\n",
    "                       usecols=['CRCNumber','Animal','Plant','Bacteria','Fungi'])\n",
    "df_SRU=pd.read_csv('../3 Removal Sugar/3.1 Removal All Sugar/deglycosylation_results.csv')\n",
    "df_SRU=df_SRU.rename(columns={'ID':'CRCNumber'})\n",
    "def delete_two_char(x):\n",
    "    CRCNumber = x[:-2]\n",
    "    return CRCNumber\n",
    "df_SRU[\"CRCNumber\"] = df_SRU[\"CRCNumber\"].map(delete_two_char)\n",
    "df=pd.merge(df_SRU,df_species,on=['CRCNumber'])\n",
    "df.to_csv('Species_SugarResults.csv',index=False)"
   ]
  },
  {
   "cell_type": "markdown",
   "metadata": {},
   "source": [
    "### 1.2 Glycosylation ratio of natural products from different biological sources"
   ]
  },
  {
   "cell_type": "code",
   "execution_count": null,
   "metadata": {},
   "outputs": [],
   "source": [
    "Species=['Animal','Plant','Bacteria','Fungi']\n",
    "def Species_Sugar(Species):\n",
    "    df_species=df[(df[Species]==1)]\n",
    "    filename_species=Species+'.csv'\n",
    "    df_species.to_csv(filename_species,index=False)\n",
    "    df_species_hassugar=df[(df[Species]==1)&(df['hadOrHasSugars']==True)]\n",
    "    filename_species_hassugar=Species+'_HasSugar.csv'\n",
    "    df_species_hassugar.to_csv(filename_species_hassugar,index=False)\n",
    "    percentages=round(len(df_species_hassugar)/len(df_species)*100,2)\n",
    "    return (Species,len(df_species),len(df_species_hassugar),percentages)\n",
    "Data=[]\n",
    "for i in Species:\n",
    "    data=Species_Sugar(i)\n",
    "    Data.append(data)\n",
    "Data=pd.DataFrame(Data,columns=['Species','All','HasSugar','Percentages(%)'])\n",
    "Data"
   ]
  },
  {
   "cell_type": "markdown",
   "metadata": {},
   "source": [
    "## 2. The cross-distribution of glycosides over structural types and biological source"
   ]
  },
  {
   "cell_type": "markdown",
   "metadata": {},
   "source": [
    "### 2.1 Read annotation information for natural products"
   ]
  },
  {
   "cell_type": "code",
   "execution_count": null,
   "metadata": {},
   "outputs": [],
   "source": [
    "DNP_original_codes = []\n",
    "file = open('../4 Structural Type and Glycosylation/DNP_compound_class.txt','r')\n",
    "for line in file.readlines():\n",
    "    line=line.strip().split('\t')\n",
    "    DNP_original_codes.append(line)    \n",
    "file.close()\n",
    "class_df = pd.DataFrame(DNP_original_codes)\n",
    "class_df = class_df.rename(columns={0:'CRCNumber',1:'codes'})\n",
    "def delete_two_char(x):\n",
    "    CRCNumber = x[:-2]\n",
    "    return CRCNumber\n",
    "class_df[\"CRCNumber\"] = class_df[\"CRCNumber\"].map(delete_two_char)"
   ]
  },
  {
   "cell_type": "markdown",
   "metadata": {},
   "source": [
    "### 2.2 Add annotation information for glycosides with biological source information"
   ]
  },
  {
   "cell_type": "code",
   "execution_count": null,
   "metadata": {},
   "outputs": [],
   "source": [
    "df_HasSpecies_HasSugar=df[df['hadOrHasSugars']==True]\n",
    "df_HasSpecies_HasSugar=pd.merge(df_HasSpecies_HasSugar,class_df,on=['CRCNumber'])"
   ]
  },
  {
   "cell_type": "markdown",
   "metadata": {},
   "source": [
    "### 2.3 Glycosides with biological source and structural type information"
   ]
  },
  {
   "cell_type": "code",
   "execution_count": null,
   "metadata": {},
   "outputs": [],
   "source": [
    "df=df_HasSpecies_HasSugar\n",
    "phylum_list=['ZA','ZB','ZD','ZE','ZF','ZG','ZH','ZI','ZJ','ZK','ZL','ZM','ZN','ZQ','ZR','ZS','ZT','ZU','ZV','ZW','ZX','ZY','ZZ']\n",
    "df=df[((df['Animal']==1)|(df['Plant']==1)|(df['Bacteria']==1)|(df['Fungi']==1))&(df['codes'].str.contains('VA')|df['codes'].str.contains('VC')|df['codes'].str.contains('VE')|df['codes'].str.contains('VF')|df['codes'].str.contains('VG')\n",
    "  |df['codes'].str.contains('VH')|df['codes'].str.contains('VI')|df['codes'].str.contains('VK')|df['codes'].str.contains('VM')|df['codes'].str.contains('VO')\n",
    "  |df['codes'].str.contains('VQ')|df['codes'].str.contains('VS')|df['codes'].str.contains('VT')|df['codes'].str.contains('VV')|df['codes'].str.contains('VX')\n",
    "  |df['codes'].str.contains('VY'))]"
   ]
  },
  {
   "cell_type": "markdown",
   "metadata": {},
   "source": [
    "### 2.4 The cross-distribution of glycosides over structural types and biological source (APBF)"
   ]
  },
  {
   "cell_type": "code",
   "execution_count": null,
   "metadata": {},
   "outputs": [],
   "source": [
    "class_list=['VA','VC','VE','VF','VG','VH','VI','VK','VM','VO','VQ','VS','VT','VV','VX','VY']\n",
    "species_list=['Animal','Plant','Bacteria','Fungi']\n",
    "Class_Species_Counts=pd.DataFrame(species_list,columns=[''])\n",
    "for i in class_list:\n",
    "    class_species_counts=[]\n",
    "    for j in species_list:\n",
    "        class_species=df_HasSpecies_HasSugar[(df_HasSpecies_HasSugar['codes'].str.contains(i))&(df_HasSpecies_HasSugar[j]==1)]\n",
    "        class_species_counts.append(len(class_species))\n",
    "    Class_Species_Counts[i]=class_species_counts\n",
    "Class_Species_Counts"
   ]
  },
  {
   "cell_type": "markdown",
   "metadata": {},
   "source": [
    "## 3. The cross-distribution of glycosides over structural types and biological source--with glycosylation ratio"
   ]
  },
  {
   "cell_type": "markdown",
   "metadata": {},
   "source": [
    "### 3.1 Read annotation information for natural products"
   ]
  },
  {
   "cell_type": "code",
   "execution_count": null,
   "metadata": {},
   "outputs": [],
   "source": [
    "df=pd.read_csv('Species_SugarResults.csv')\n",
    "DNP_original_codes = []\n",
    "file = open('../4 Structural Type and Glycosylation/DNP_compound_class.txt','r')\n",
    "for line in file.readlines():\n",
    "    line=line.strip().split('\t')\n",
    "    DNP_original_codes.append(line)    \n",
    "file.close()\n",
    "class_df = pd.DataFrame(DNP_original_codes)\n",
    "class_df = class_df.rename(columns={0:'CRCNumber',1:'codes'})\n",
    "def delete_two_char(x):\n",
    "    CRCNumber = x[:-2]\n",
    "    return CRCNumber\n",
    "class_df[\"CRCNumber\"] = class_df[\"CRCNumber\"].map(delete_two_char)"
   ]
  },
  {
   "cell_type": "markdown",
   "metadata": {},
   "source": [
    "### 3.2 Add annotation information"
   ]
  },
  {
   "cell_type": "code",
   "execution_count": null,
   "metadata": {},
   "outputs": [],
   "source": [
    "df_HasSpecies=pd.merge(df,class_df,on=['CRCNumber'])\n",
    "df_HasSpecies"
   ]
  },
  {
   "cell_type": "markdown",
   "metadata": {},
   "source": [
    "### 3.3 The cross-distribution of glycosides over structural types and biological source"
   ]
  },
  {
   "cell_type": "code",
   "execution_count": null,
   "metadata": {},
   "outputs": [],
   "source": [
    "class_list=['VA','VC','VE','VF','VG','VH','VI','VK','VM','VO','VQ','VS','VT','VV','VX','VY']\n",
    "species_list=['Animal','Plant','Bacteria','Fungi']\n",
    "Class_Species_Counts=pd.DataFrame(species_list,columns=[''])\n",
    "for i in class_list:\n",
    "    class_species_counts=[]\n",
    "    for j in species_list:\n",
    "        class_species=df_HasSpecies[(df_HasSpecies['codes'].str.contains(i))&(df_HasSpecies[j]==1)]\n",
    "        class_species_sugar=df_HasSpecies[(df_HasSpecies['codes'].str.contains(i))&(df_HasSpecies[j]==1)&(df_HasSpecies['hadOrHasSugars']==True)]\n",
    "        class_species_sugar_NPs=str(len(class_species_sugar))+'/'+str(len(class_species))\n",
    "        try:\n",
    "            if len(class_species_sugar)==0:\n",
    "                class_species_glycolation='0%'\n",
    "            else:\n",
    "                class_species_glycolation=str(round(len(class_species_sugar)/len(class_species)*100,2))+'%'\n",
    "        except:\n",
    "            class_codes_glycolation='0%'\n",
    "        class_species_counts.append((class_species_sugar_NPs,class_species_glycolation))\n",
    "    Class_Species_Counts[i]=class_species_counts\n",
    "Class_Species_Counts"
   ]
  }
 ],
 "metadata": {
  "kernelspec": {
   "display_name": "Python 3",
   "language": "python",
   "name": "python3"
  },
  "language_info": {
   "codemirror_mode": {
    "name": "ipython",
    "version": 3
   },
   "file_extension": ".py",
   "mimetype": "text/x-python",
   "name": "python",
   "nbconvert_exporter": "python",
   "pygments_lexer": "ipython3",
   "version": "3.7.0"
  }
 },
 "nbformat": 4,
 "nbformat_minor": 2
}
