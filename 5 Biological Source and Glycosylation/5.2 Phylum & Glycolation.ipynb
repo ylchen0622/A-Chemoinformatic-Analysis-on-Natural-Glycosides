{
 "cells": [
  {
   "cell_type": "markdown",
   "metadata": {},
   "source": [
    "## 1. Glycosylation ratio of natural products from different phyla"
   ]
  },
  {
   "cell_type": "markdown",
   "metadata": {},
   "source": [
    "### 1.1 Deglycosylation results of natural products with biological sources information"
   ]
  },
  {
   "cell_type": "code",
   "execution_count": null,
   "metadata": {},
   "outputs": [],
   "source": [
    "import pandas as pd\n",
    "df_codes=pd.read_csv('../2 Biological Source and Structural Type/2.1 Structural Type/HasCodes.csv',usecols=['CRCNumber','codes'])\n",
    "df_SRU=pd.read_csv('../3 Removing Sugar/3.1 Removing All Sugar/deglycosylation_results.csv')\n",
    "df_SRU=df_SRU.rename(columns={'ID':'CRCNumber'})\n",
    "df=pd.merge(df_SRU,df_codes,on=['CRCNumber'])\n",
    "phylum_list=['ZA','ZB','ZD','ZE','ZF','ZG','ZH','ZI','ZJ','ZK','ZL','ZM','ZN','ZQ','ZR','ZS','ZT','ZU','ZV','ZW','ZX','ZY','ZZ']\n",
    "df=df[(df['codes'].str.contains('ZA')|df['codes'].str.contains('ZB')|df['codes'].str.contains('ZD')|df['codes'].str.contains('ZE')|df['codes'].str.contains('ZF')\n",
    "  |df['codes'].str.contains('ZG')|df['codes'].str.contains('ZH')|df['codes'].str.contains('ZI')|df['codes'].str.contains('ZJ')|df['codes'].str.contains('ZK')\n",
    "  |df['codes'].str.contains('ZL')|df['codes'].str.contains('ZM')|df['codes'].str.contains('ZN')|df['codes'].str.contains('ZQ')|df['codes'].str.contains('ZR')\n",
    "  |df['codes'].str.contains('ZS')|df['codes'].str.contains('ZT')|df['codes'].str.contains('ZU')|df['codes'].str.contains('ZV')|df['codes'].str.contains('ZW')\n",
    "  |df['codes'].str.contains('ZX')|df['codes'].str.contains('ZY')|df['codes'].str.contains('ZZ'))]\n",
    "df"
   ]
  },
  {
   "cell_type": "markdown",
   "metadata": {},
   "source": [
    "### 1.2 Glycosylation ratio of natural products from different phyla"
   ]
  },
  {
   "cell_type": "code",
   "execution_count": null,
   "metadata": {},
   "outputs": [],
   "source": [
    "codes_list=['ZA','ZB','ZD','ZE','ZF','ZG','ZH','ZI','ZJ','ZK','ZL','ZM','ZN','ZQ','ZR','ZS','ZT','ZU','ZV','ZW','ZX','ZY','ZZ']\n",
    "Data=[]\n",
    "for i in codes_list:\n",
    "    data=df[df['codes'].str.contains(i)]\n",
    "    data_hassugar=df[(df['codes'].str.contains(i))&(df['hadOrHasSugars']==True)]\n",
    "    percentages=round(len(data_hassugar)/len(data)*100,2)\n",
    "    Data.append((i,len(data),len(data_hassugar),percentages))\n",
    "Data=pd.DataFrame(Data,columns=['Codes','All','HasSugar','Percentages(%)'])\n",
    "Data"
   ]
  },
  {
   "cell_type": "markdown",
   "metadata": {},
   "source": [
    "## 2. The cross-distribution of glycosides over structural types and biological sources (Phylum)"
   ]
  },
  {
   "cell_type": "code",
   "execution_count": null,
   "metadata": {},
   "outputs": [],
   "source": [
    "class_list=['VA','VC','VE','VF','VG','VH','VI','VK','VM','VO','VQ','VS','VT','VV','VX','VY']\n",
    "codes_list=['ZA','ZB','ZD','ZE','ZF','ZG','ZH','ZI','ZJ','ZK','ZL','ZM','ZN','ZQ','ZR','ZS','ZT','ZU','ZV','ZW','ZX','ZY','ZZ']\n",
    "Class_Codes_Sugar_Counts=pd.DataFrame(codes_list,columns=[''])\n",
    "for i in class_list:\n",
    "    class_codes_sugar_counts=[]\n",
    "    for j in codes_list:\n",
    "        class_codes_sugar=df[(df['codes'].str.contains(i))&(df['codes'].str.contains(j))&(df['hadOrHasSugars']==True)]\n",
    "        class_codes_sugar_counts.append(len(class_codes_sugar))\n",
    "    Class_Codes_Sugar_Counts[i]=class_codes_sugar_counts\n",
    "Class_Codes_Sugar_Counts"
   ]
  },
  {
   "cell_type": "markdown",
   "metadata": {},
   "source": [
    "## 3. The cross-distribution of glycosides over structural types and biological sources (Phylum)--with glycosylation ratio"
   ]
  },
  {
   "cell_type": "markdown",
   "metadata": {},
   "source": [
    "### 3.1 The deglycosylation results of natural products with biological sources information (Phylum)"
   ]
  },
  {
   "cell_type": "code",
   "execution_count": null,
   "metadata": {},
   "outputs": [],
   "source": [
    "df_NPs=pd.read_csv('../2 Biological Source and Structural Type/2.1 Structural Type/HasCodes.csv',usecols=['CRCNumber','codes'])\n",
    "df_SRU=pd.read_csv('../3 Removing Sugar/3.1 Removing All Sugar/deglycosylation_results.csv')\n",
    "df_SRU=df_SRU.rename(columns={'ID':'CRCNumber'})\n",
    "df=pd.merge(df_SRU,df_NPs,on=['CRCNumber'])\n",
    "phylum_list=['ZA','ZB','ZD','ZE','ZF','ZG','ZH','ZI','ZJ','ZK','ZL','ZM','ZN','ZQ','ZR','ZS','ZT','ZU','ZV','ZW','ZX','ZY','ZZ']\n",
    "df=df[(df['codes'].str.contains('ZA')|df['codes'].str.contains('ZB')|df['codes'].str.contains('ZD')|df['codes'].str.contains('ZE')|df['codes'].str.contains('ZF')\n",
    "  |df['codes'].str.contains('ZG')|df['codes'].str.contains('ZH')|df['codes'].str.contains('ZI')|df['codes'].str.contains('ZJ')|df['codes'].str.contains('ZK')\n",
    "  |df['codes'].str.contains('ZL')|df['codes'].str.contains('ZM')|df['codes'].str.contains('ZN')|df['codes'].str.contains('ZQ')|df['codes'].str.contains('ZR')\n",
    "  |df['codes'].str.contains('ZS')|df['codes'].str.contains('ZT')|df['codes'].str.contains('ZU')|df['codes'].str.contains('ZV')|df['codes'].str.contains('ZW')\n",
    "  |df['codes'].str.contains('ZX')|df['codes'].str.contains('ZY')|df['codes'].str.contains('ZZ'))]\n",
    "df"
   ]
  },
  {
   "cell_type": "markdown",
   "metadata": {},
   "source": [
    "### 3.2 The cross-distribution of glycosides over structural types and biological source (Phylum)"
   ]
  },
  {
   "cell_type": "code",
   "execution_count": null,
   "metadata": {},
   "outputs": [],
   "source": [
    "class_list=['VA','VC','VE','VF','VG','VH','VI','VK','VM','VO','VQ','VS','VT','VV','VX','VY']\n",
    "codes_list=['ZA','ZB','ZD','ZE','ZF','ZG','ZH','ZI','ZJ','ZK','ZL','ZM','ZN','ZQ','ZR','ZS','ZT','ZU','ZV','ZW','ZX','ZY','ZZ']\n",
    "Class_Codes_Sugar_Counts=pd.DataFrame(codes_list,columns=[''])\n",
    "for i in class_list:\n",
    "    class_codes_sugar_counts=[]\n",
    "    for j in codes_list:\n",
    "        class_codes_NPs=df[(df['codes'].str.contains(i))&(df['codes'].str.contains(j))]\n",
    "        class_codes_sugar=df[(df['codes'].str.contains(i))&(df['codes'].str.contains(j))&(df['hadOrHasSugars']==True)]\n",
    "        class_codes_sugar_NPs=str(len(class_codes_sugar))+'/'+str(len(class_codes_NPs))\n",
    "        try:\n",
    "            if len(class_codes_sugar)==0:\n",
    "                class_codes_glycolation='0%'\n",
    "            else:\n",
    "                class_codes_glycolation=str(round(len(class_codes_sugar)/len(class_codes_NPs)*100,2))+'%'\n",
    "        except:\n",
    "            class_codes_glycolation='0%'\n",
    "        class_codes_sugar_counts.append((class_codes_sugar_NPs,class_codes_glycolation))\n",
    "    Class_Codes_Sugar_Counts[i]=class_codes_sugar_counts\n",
    "Class_Codes_Sugar_Counts"
   ]
  }
 ],
 "metadata": {
  "kernelspec": {
   "display_name": "Python 3",
   "language": "python",
   "name": "python3"
  },
  "language_info": {
   "codemirror_mode": {
    "name": "ipython",
    "version": 3
   },
   "file_extension": ".py",
   "mimetype": "text/x-python",
   "name": "python",
   "nbconvert_exporter": "python",
   "pygments_lexer": "ipython3",
   "version": "3.7.0"
  }
 },
 "nbformat": 4,
 "nbformat_minor": 2
}
